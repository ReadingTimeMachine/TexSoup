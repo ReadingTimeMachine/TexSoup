{
 "cells": [
  {
   "cell_type": "markdown",
   "id": "6e25dd99-592e-49cd-8707-c7b0d9d4e655",
   "metadata": {},
   "source": [
    "Less of a unit test, more an exploration of waffles."
   ]
  },
  {
   "cell_type": "code",
   "execution_count": 98,
   "id": "f22d445b-d4a2-4690-85d3-469bb6ea24ad",
   "metadata": {
    "tags": []
   },
   "outputs": [],
   "source": [
    "filename = 'samples/waffle.tex'"
   ]
  },
  {
   "cell_type": "code",
   "execution_count": 99,
   "id": "d5495772-d60c-4964-bb22-110e3c95d4d9",
   "metadata": {
    "tags": []
   },
   "outputs": [],
   "source": [
    "# debug\n",
    "from importlib import reload\n",
    "import TexSoup\n",
    "reload(TexSoup)\n",
    "\n",
    "import TexSoup\n",
    "import re\n",
    "import numpy as np\n",
    "\n",
    "from TexSoup import preprocessing, postprocess"
   ]
  },
  {
   "cell_type": "code",
   "execution_count": 100,
   "id": "9df34cf2-b722-46c7-ad69-8d71e2133028",
   "metadata": {
    "tags": []
   },
   "outputs": [],
   "source": [
    "with open(filename,'r') as f:\n",
    "    tex_doc = f.read()"
   ]
  },
  {
   "cell_type": "markdown",
   "id": "db883bf6-a509-49f5-8d73-4687286f6621",
   "metadata": {},
   "source": [
    "Sometimes there are weird errors like spaces in begins/ends -- fix these first:"
   ]
  },
  {
   "cell_type": "code",
   "execution_count": 101,
   "id": "5c5ddcfe-9b80-42ec-9982-4cb38dd5005f",
   "metadata": {
    "tags": []
   },
   "outputs": [
    {
     "data": {
      "text/plain": [
       "<module 'TexSoup.preprocessing' from '/Users/jnaiman/TexSoup/TexSoup/preprocessing.py'>"
      ]
     },
     "execution_count": 101,
     "metadata": {},
     "output_type": "execute_result"
    }
   ],
   "source": [
    "# from TexSoup import preprocessing\n",
    "reload(preprocessing)"
   ]
  },
  {
   "cell_type": "code",
   "execution_count": 102,
   "id": "afc92ee9-eabb-4946-bd7d-29ca01e7ded3",
   "metadata": {
    "tags": []
   },
   "outputs": [],
   "source": [
    "tex_doc = preprocessing.process_begin_end(tex_doc)"
   ]
  },
  {
   "cell_type": "markdown",
   "id": "a5d144bf-263a-4fa8-ba66-e09d8e04fff5",
   "metadata": {},
   "source": [
    "Clean accents in case folks did something funny:"
   ]
  },
  {
   "cell_type": "code",
   "execution_count": 103,
   "id": "b5a07544-9edf-4aca-b973-7d2bbbe46a54",
   "metadata": {
    "tags": []
   },
   "outputs": [],
   "source": [
    "tex_doc, error_accents = preprocessing.clean_accents(tex_doc)"
   ]
  },
  {
   "cell_type": "code",
   "execution_count": 104,
   "id": "0e76eb94-a93d-4dcf-9f99-60285f8d0a0b",
   "metadata": {
    "tags": []
   },
   "outputs": [],
   "source": [
    "#print(tex_doc)"
   ]
  },
  {
   "cell_type": "markdown",
   "id": "b4b0751f-8895-4567-b30c-1a21c3b31cf5",
   "metadata": {},
   "source": [
    "Get new commands and enviroments -- we need to these to check if there are `\\begin` and `\\end` in these, so first, get them!"
   ]
  },
  {
   "cell_type": "code",
   "execution_count": 105,
   "id": "14c27eab-aa8a-4e86-8706-2c8fe77523ad",
   "metadata": {
    "tags": []
   },
   "outputs": [],
   "source": [
    "newcommands, newenvironments = preprocessing.get_newcommands_and_newenvs(tex_doc,\n",
    "                                                                         verbose=True)"
   ]
  },
  {
   "cell_type": "markdown",
   "id": "74fb9696-6ecd-468a-b255-3391e8bc3444",
   "metadata": {},
   "source": [
    "Get the argument numbers for these -- will need this for search-replace:"
   ]
  },
  {
   "cell_type": "code",
   "execution_count": 106,
   "id": "d5da4446-c164-4105-9474-07d6c57f8d49",
   "metadata": {
    "tags": []
   },
   "outputs": [],
   "source": [
    "args_newcommands = preprocessing.find_args_newcommands(newcommands,error_out=True, verbose=True)"
   ]
  },
  {
   "cell_type": "code",
   "execution_count": 107,
   "id": "442393ed-4e35-411e-bae2-0dd6c2521c81",
   "metadata": {
    "tags": []
   },
   "outputs": [
    {
     "data": {
      "text/plain": [
       "[['\\\\be', '\\\\newcommand{\\\\be}{\\\\begin{equation}}', 57, 91, 0],\n",
       " ['\\\\ee', '\\\\newcommand{\\\\ee}{\\\\end{equation}}', 92, 124, 0],\n",
       " ['\\\\bee',\n",
       "  '\\\\newcommand{\\\\bee}[1]{\\\\begin{equation}\\\\label{e:#1}}',\n",
       "  126,\n",
       "  176,\n",
       "  1],\n",
       " ['\\\\eee', '\\\\newcommand{\\\\eee}{\\\\end{equation}}', 177, 210, 0],\n",
       " ['\\\\beee',\n",
       "  '\\\\newcommand{\\\\beee}[2]{\\\\begin{equation}\\\\label{e:#1} #2}',\n",
       "  212,\n",
       "  266,\n",
       "  2],\n",
       " ['\\\\eeee', '\\\\newcommand{\\\\eeee}{\\\\end{equation}}', 267, 301, 0],\n",
       " ['\\\\etal ', '\\\\def \\\\etal {{\\\\em et al.}}', 304, 329, 0]]"
      ]
     },
     "execution_count": 107,
     "metadata": {},
     "output_type": "execute_result"
    }
   ],
   "source": [
    "args_newcommands"
   ]
  },
  {
   "cell_type": "code",
   "execution_count": 108,
   "id": "8286ed78-d464-45c1-a109-ec07d68d477d",
   "metadata": {
    "tags": []
   },
   "outputs": [],
   "source": [
    "args_newenvironments = preprocessing.find_args_newenvironments(newenvironments,\n",
    "                                                               error_out=True, verbose=True)"
   ]
  },
  {
   "cell_type": "code",
   "execution_count": 109,
   "id": "d16d5526-15cd-4239-9f09-c2da2a6deba2",
   "metadata": {
    "tags": []
   },
   "outputs": [
    {
     "data": {
      "text/plain": [
       "[]"
      ]
     },
     "execution_count": 109,
     "metadata": {},
     "output_type": "execute_result"
    }
   ],
   "source": [
    "args_newenvironments"
   ]
  },
  {
   "cell_type": "code",
   "execution_count": 110,
   "id": "8cccec4e-1ddb-4192-8950-1af4dfac1490",
   "metadata": {
    "tags": []
   },
   "outputs": [],
   "source": [
    "comments, find_replace, error = preprocessing.generate_find_replace_newcommands(args_newcommands, \n",
    "                                                               verbose=True,arg_type = 'newcommand')"
   ]
  },
  {
   "cell_type": "markdown",
   "id": "58c2e83c-3adb-45fa-b497-1a24ac847c7f",
   "metadata": {},
   "source": [
    "Replace newcommands and environments:"
   ]
  },
  {
   "cell_type": "code",
   "execution_count": 111,
   "id": "d77ddd7e-7cf5-4b0c-a6a0-4c3d6806be1c",
   "metadata": {
    "tags": []
   },
   "outputs": [
    {
     "name": "stdout",
     "output_type": "stream",
     "text": [
      "args for: \\newcommand{\\bee}[1]{\\begin{equation}\\label{e:#1}}\n",
      "{1: 'lenseq'}\n",
      "args for: \\newcommand{\\beee}[2]{\\begin{equation}\\label{e:#1} #2}\n",
      "{1: 'lenseq2', 2: 'A(x)=5'}\n",
      "\n",
      "\\newcommand{\\be}{\\begin{equation}} gets commented\n",
      "\\newcommand{\\ee}{\\end{equation}} gets commented\n",
      "\\newcommand{\\bee}[1]{\\begin{equation}\\label{e:#1}} gets commented\n",
      "\\newcommand{\\eee}{\\end{equation}} gets commented\n",
      "\\newcommand{\\beee}[2]{\\begin{equation}\\label{e:#1} #2} gets commented\n",
      "\\newcommand{\\eeee}{\\end{equation}} gets commented\n"
     ]
    }
   ],
   "source": [
    "tex_doc_nc, error, warnings = preprocessing.replace_newcommands_and_newenvironments(tex_doc, \n",
    "                                                                          args_newcommands,\n",
    "                                                                          args_newenvironments,\n",
    "                                                                          verbose=True)"
   ]
  },
  {
   "cell_type": "code",
   "execution_count": 112,
   "id": "fa3e8ea8-53c0-4ce3-85ce-aaebf51bc300",
   "metadata": {
    "tags": []
   },
   "outputs": [],
   "source": [
    "soup = TexSoup.TexSoup(r''+tex_doc_nc, tolerance=0)"
   ]
  },
  {
   "cell_type": "code",
   "execution_count": 113,
   "id": "0ebb5707-4e89-4a14-99f3-bf5a8556aa41",
   "metadata": {
    "tags": []
   },
   "outputs": [
    {
     "data": {
      "text/plain": [
       "<module 'TexSoup.postprocess' from '/Users/jnaiman/TexSoup/TexSoup/postprocess.py'>"
      ]
     },
     "execution_count": 113,
     "metadata": {},
     "output_type": "execute_result"
    }
   ],
   "source": [
    "reload(TexSoup)\n",
    "import TexSoup.postprocess as postprocess\n",
    "reload(postprocess)"
   ]
  },
  {
   "cell_type": "code",
   "execution_count": 114,
   "id": "5219a965-d4ee-4b62-9d3e-1e6a675ca19e",
   "metadata": {
    "tags": []
   },
   "outputs": [],
   "source": [
    "soup_clean = postprocess.clean_slash_commands(soup)"
   ]
  },
  {
   "cell_type": "code",
   "execution_count": null,
   "id": "5cd06b74-6f98-4266-9cfa-638e26b9bdc5",
   "metadata": {},
   "outputs": [],
   "source": []
  },
  {
   "cell_type": "code",
   "execution_count": 115,
   "id": "39394b3e-b816-42f6-87a1-633d0a0eded8",
   "metadata": {
    "tags": []
   },
   "outputs": [
    {
     "name": "stdout",
     "output_type": "stream",
     "text": [
      "----------- soup element = 0 ---------------\n",
      "----------- soup element = 1 ---------------\n",
      "----------- soup element = 2 ---------------\n",
      "----------- soup element = 3 ---------------\n",
      "----------- soup element = 4 ---------------\n",
      "----------- soup element = 5 ---------------\n",
      "----------- soup element = 6 ---------------\n",
      "----------- soup element = 7 ---------------\n",
      "----------- soup element = 8 ---------------\n",
      "----------- soup element = 9 ---------------\n",
      "----------- soup element = 10 ---------------\n",
      "----------- soup element = 11 ---------------\n",
      "----------- soup element = 12 ---------------\n",
      "----------- soup element = 13 ---------------\n",
      "----------- soup element = 14 ---------------\n",
      "----------- soup element = 15 ---------------\n",
      "----------- soup element = 16 ---------------\n",
      "----------- soup element = 17 ---------------\n",
      "----------- soup element = 18 ---------------\n",
      "----------- soup element = 19 ---------------\n",
      "----------- soup element = 20 ---------------\n",
      "----------- soup element = 21 ---------------\n",
      "----------- soup element = 22 ---------------\n",
      "----------- soup element = 23 ---------------\n",
      "----------- soup element = 24 ---------------\n",
      "----------- soup element = 25 ---------------\n",
      "----------- sub-soup element = 0 ---------------\n",
      "<class 'TexSoup.data.TexText'>\n",
      "\n",
      "\n",
      "-----------------\n",
      "----------- sub-soup element = 1 ---------------\n",
      "<class 'TexSoup.data.TexText'>\n",
      "\n",
      "\n",
      "-----------------\n",
      "----------- sub-soup element = 2 ---------------\n",
      "<class 'TexSoup.data.TexCmd'>\n",
      "\\section{Waffles waffles waffles}\n",
      "-----------------\n",
      "----------- sub-soup element = 3 ---------------\n",
      "<class 'TexSoup.data.TexText'>\n",
      "\n",
      "\n",
      "-----------------\n",
      "----------- sub-soup element = 4 ---------------\n",
      "<class 'TexSoup.data.TexText'>\n",
      "\n",
      "\n",
      "-----------------\n",
      "----------- sub-soup element = 5 ---------------\n",
      "<class 'TexSoup.data.TexCmd'>\n",
      "\\subsection{Waffles are cooler than you}\n",
      "-----------------\n",
      "----------- sub-soup element = 6 ---------------\n",
      "<class 'TexSoup.data.TexText'>\n",
      "\n",
      "\n",
      "-----------------\n",
      "----------- sub-soup element = 7 ---------------\n",
      "<class 'TexSoup.data.TexText'>\n",
      "\n",
      "Waffles have significantly more pockets than you.  \n",
      "\n",
      "\n",
      "-----------------\n",
      "----------- sub-soup element = 8 ---------------\n",
      "<class 'TexSoup.data.TexDisplayMathEnv'>\n",
      "\\[\n",
      "P(W) > P(\\rm{you})\n",
      "\\]\n",
      "-----------------\n",
      "----------- sub-soup element = 9 ---------------\n",
      "<class 'TexSoup.data.TexText'>\n",
      "\n",
      "\n",
      "-----------------\n",
      "----------- sub-soup element = 10 ---------------\n",
      "<class 'TexSoup.data.TexText'>\n",
      "\n",
      "Ok, maybe you are at least as cool as waffles:\n",
      "\n",
      "\n",
      "-----------------\n",
      "----------- sub-soup element = 11 ---------------\n",
      "<class 'TexSoup.data.TexDisplayMathModeEnv'>\n",
      "$$\n",
      "C_{ool}(\\rm{you}) \\ge C_{ool}(W)\n",
      "$$\n",
      "-----------------\n",
      "----------- sub-soup element = 12 ---------------\n",
      "<class 'TexSoup.data.TexText'>\n",
      "\n",
      "\n",
      "-----------------\n",
      "----------- sub-soup element = 13 ---------------\n",
      "<class 'TexSoup.data.TexText'>\n",
      "\n",
      "Sometimes though, you might type things in silly ways \n",
      "-----------------\n",
      "----------- sub-soup element = 14 ---------------\n",
      "<class 'TexSoup.data.TexMathModeEnv'>\n",
      "$C_ {ool  } (\\rm{anybody}) >   0$\n",
      "-----------------\n",
      "----------- sub-soup element = 15 ---------------\n",
      "<class 'TexSoup.data.TexText'>\n",
      ".\n",
      "\n",
      "\n",
      "-----------------\n",
      "----------- sub-soup element = 16 ---------------\n",
      "<class 'TexSoup.data.TexNamedEnv'>\n",
      "\\begin{equation}\n",
      "C_{   ool} \\ne 0\n",
      "\\end{equation}\n",
      "-----------------\n",
      "----------- sub-soup element = 17 ---------------\n",
      "<class 'TexSoup.data.TexText'>\n",
      "\n",
      "\n",
      "-----------------\n",
      "----------- sub-soup element = 18 ---------------\n",
      "<class 'TexSoup.data.TexText'>\n",
      "\n",
      "Also, let's do a silly redefined an equation:\n",
      "\n",
      "-----------------\n",
      "----------- sub-soup element = 19 ---------------\n",
      "<class 'TexSoup.data.TexNamedEnv'>\n",
      "\\begin{equation}\n",
      "C = C_2 + 1\n",
      "\\end{equation}\n",
      "-----------------\n",
      "----------- sub-soup element = 20 ---------------\n",
      "<class 'TexSoup.data.TexText'>\n",
      "\n",
      "\n",
      "-----------------\n",
      "----------- sub-soup element = 21 ---------------\n",
      "<class 'TexSoup.data.TexText'>\n",
      "\n",
      "Also also, just one more time:\n",
      "\n",
      "-----------------\n",
      "----------- sub-soup element = 22 ---------------\n",
      "<class 'TexSoup.data.TexNamedEnv'>\n",
      "\\begin{equation}\n",
      "C = C_2 + 1\n",
      "\\end{equation}\n",
      "-----------------\n",
      "----------- sub-soup element = 23 ---------------\n",
      "<class 'TexSoup.data.TexText'>\n",
      "\n",
      "\n",
      "-----------------\n",
      "----------- sub-soup element = 24 ---------------\n",
      "<class 'TexSoup.data.TexText'>\n",
      "\n",
      "\n",
      "-----------------\n",
      "----------- sub-soup element = 25 ---------------\n",
      "<class 'TexSoup.data.TexText'>\n",
      "\n",
      "Sometimes I like to write with weird commands like Naiman \n",
      "-----------------\n",
      "----------- sub-soup element = 26 ---------------\n",
      "<class 'TexSoup.data.TexCmd'>\n",
      "\\etal\\ \n",
      "-----------------\n",
      "----------- sub-soup element = 27 ---------------\n",
      "<class 'TexSoup.data.TexText'>\n",
      "which can make it tricky to parse things.\n",
      "\n",
      "\n",
      "-----------------\n",
      "----------- sub-soup element = 28 ---------------\n",
      "<class 'TexSoup.data.TexNamedEnv'>\n",
      "\\begin{equation}\\label{e:lenseq}\n",
      "    A(\\xi) = \\frac12\\left(\\xi+\\frac1\\xi\\right),\n",
      "\\end{equation}\n",
      "-----------------\n",
      "----------- sub-soup element = 29 ---------------\n",
      "<class 'TexSoup.data.TexText'>\n",
      "\n",
      "\n",
      "-----------------\n",
      "----------- sub-soup element = 30 ---------------\n",
      "<class 'TexSoup.data.TexText'>\n",
      "\n",
      "\n",
      "-----------------\n",
      "----------- sub-soup element = 31 ---------------\n",
      "<class 'TexSoup.data.TexNamedEnv'>\n",
      "\\begin{equation}\\label{e:lenseq2} A(x)=5\\end{equation}\n",
      "-----------------\n",
      "----------- sub-soup element = 32 ---------------\n",
      "<class 'TexSoup.data.TexText'>\n",
      "\n",
      "\n",
      "-----------------\n",
      "----------- sub-soup element = 33 ---------------\n",
      "<class 'TexSoup.data.TexText'>\n",
      "\n",
      "Getting some refs in \n",
      "-----------------\n",
      "----------- sub-soup element = 34 ---------------\n",
      "<class 'TexSoup.data.TexCmd'>\n",
      "\\ref{lenseq}\n",
      "-----------------\n",
      "----------- sub-soup element = 35 ---------------\n",
      "<class 'TexSoup.data.TexText'>\n",
      " and \n",
      "-----------------\n",
      "----------- sub-soup element = 36 ---------------\n",
      "<class 'TexSoup.data.TexCmd'>\n",
      "\\ref{lenseq2}\n",
      "-----------------\n",
      "----------- sub-soup element = 37 ---------------\n",
      "<class 'TexSoup.data.TexText'>\n",
      ".\n",
      "\n",
      "Let me also try out s\n",
      "-----------------\n",
      "----------- sub-soup element = 38 ---------------\n",
      "<class 'TexSoup.data.TexText'>\n",
      "\\`\n",
      "-----------------\n",
      "----------- sub-soup element = 39 ---------------\n",
      "<class 'TexSoup.data.TexText'>\n",
      "ome accents in d\n",
      "-----------------\n",
      "----------- sub-soup element = 40 ---------------\n",
      "<class 'TexSoup.data.BraceGroup'>\n",
      "{\\\"{i}}\n",
      "-----------------\n",
      "----------- sub-soup element = 41 ---------------\n",
      "<class 'TexSoup.data.TexText'>\n",
      "ff\n",
      "-----------------\n",
      "----------- sub-soup element = 42 ---------------\n",
      "<class 'TexSoup.data.TexText'>\n",
      "\\'\n",
      "-----------------\n",
      "----------- sub-soup element = 43 ---------------\n",
      "<class 'TexSoup.data.TexText'>\n",
      "e\n",
      "-----------------\n",
      "----------- sub-soup element = 44 ---------------\n",
      "<class 'TexSoup.data.TexText'>\n",
      "\\'\n",
      "-----------------\n",
      "----------- sub-soup element = 45 ---------------\n",
      "<class 'TexSoup.data.TexText'>\n",
      "r\n",
      "-----------------\n",
      "----------- sub-soup element = 46 ---------------\n",
      "<class 'TexSoup.data.TexText'>\n",
      "\\`\n",
      "-----------------\n",
      "----------- sub-soup element = 47 ---------------\n",
      "<class 'TexSoup.data.TexText'>\n",
      "ent f\n",
      "-----------------\n",
      "----------- sub-soup element = 48 ---------------\n",
      "<class 'TexSoup.data.TexText'>\n",
      "\\'\n",
      "-----------------\n",
      "----------- sub-soup element = 49 ---------------\n",
      "<class 'TexSoup.data.BraceGroup'>\n",
      "{o}\n",
      "-----------------\n",
      "----------- sub-soup element = 50 ---------------\n",
      "<class 'TexSoup.data.TexText'>\n",
      "rms. Doin\n",
      "-----------------\n",
      "----------- sub-soup element = 51 ---------------\n",
      "<class 'TexSoup.data.TexText'>\n",
      "\\`\n",
      "-----------------\n",
      "----------- sub-soup element = 52 ---------------\n",
      "<class 'TexSoup.data.BraceGroup'>\n",
      "{g}\n",
      "-----------------\n",
      "----------- sub-soup element = 53 ---------------\n",
      "<class 'TexSoup.data.TexText'>\n",
      " it.\n",
      "\n",
      "\n",
      "-----------------\n",
      "----------- sub-soup element = 54 ---------------\n",
      "<class 'TexSoup.data.TexText'>\n",
      "\\'\n",
      "-----------------\n",
      "----------- sub-soup element = 55 ---------------\n",
      "<class 'TexSoup.data.TexText'>\n",
      "Ok great!\n",
      "\n",
      "Well that was fun!\n",
      "\n",
      "\n",
      "\n",
      "-----------------\n",
      "----------- soup element = 26 ---------------\n"
     ]
    }
   ],
   "source": [
    "for iss,s in enumerate(soup_clean.all):\n",
    "    print('----------- soup element =', iss, '---------------')\n",
    "    if type(s.expr) == TexSoup.data.TexNamedEnv: # parts of the text\n",
    "        if 'begin' in s.expr.begin and 'document' in s.expr.begin:\n",
    "            for isss,ss in enumerate(s.all):\n",
    "                print('----------- sub-soup element =', isss, '---------------')\n",
    "                #print(type(ss))\n",
    "                print(type(ss.expr))\n",
    "                print(ss)\n",
    "                print('-----------------')\n",
    "                if str(ss).strip() == '\\\\': # \n",
    "                    import sys; sys.exit()\n",
    "        else:\n",
    "            print(' ******** not in document *********** ')"
   ]
  },
  {
   "cell_type": "code",
   "execution_count": null,
   "id": "a3749971-1b4e-4bdf-bb65-6154a5937ba5",
   "metadata": {},
   "outputs": [],
   "source": []
  },
  {
   "cell_type": "code",
   "execution_count": 121,
   "id": "88e50898-8739-490d-adde-4ffc7d0f4d24",
   "metadata": {
    "tags": []
   },
   "outputs": [],
   "source": [
    "from TexSoup import postprocess\n",
    "reload(TexSoup)\n",
    "reload(postprocess)\n",
    "reload(preprocessing)\n",
    "\n",
    "#from TexSoup.preprocessing import accents, accents_alone\n",
    "from TexSoup.postprocess import parse_soup"
   ]
  },
  {
   "cell_type": "code",
   "execution_count": 122,
   "id": "52fa2a7c-9361-4463-ab02-2a8b829b950c",
   "metadata": {
    "tags": []
   },
   "outputs": [],
   "source": [
    "#get_replacement_tex = TexSoup.postprocess.get_replacement_tex"
   ]
  },
  {
   "cell_type": "code",
   "execution_count": 123,
   "id": "1244a14c-3a90-43fd-a320-38640877478f",
   "metadata": {
    "tags": []
   },
   "outputs": [],
   "source": [
    "# verbose = False\n",
    "# tex_doc_accent = tex_doc_nc\n",
    "\n",
    "\n",
    "# icount = 0\n",
    "# texout_arr = []\n",
    "# errorAll = False\n",
    "# for isss, s in enumerate(soup.all):\n",
    "#     if type(s.expr) == TexSoup.data.TexNamedEnv: # parts of the text\n",
    "#         if 'begin' in s.expr.begin and 'document' in s.expr.begin:\n",
    "#             # add preamble\n",
    "#             #texout_arr.append((preamble,'preamble'))\n",
    "#             texout_arr.append(('\\\\begin{document}\\n','beginDoc'))\n",
    "#             try: \n",
    "#                 iterator = s.all\n",
    "#             except:\n",
    "#                 errorAll = True\n",
    "#             if not errorAll:\n",
    "#                 for is3,ss in enumerate(s.all):  \n",
    "#                     if type(ss.expr) == TexSoup.data.TexText: # mark text words\n",
    "#                         strout = get_replacement_tex(tex_doc_accent, s, is3,ss, verbose=verbose)\n",
    "#                         if len(strout.strip()) > 0: # not just white-space\n",
    "#                             if strout.lstrip()[0] != '%': # not a comment:\n",
    "#                                 if str(ss.expr) in accents_alone: # accent alone\n",
    "#                                     strout = get_replacement_tex(tex_doc_accent, s, is3,ss, verbose=verbose)\n",
    "#                                     texout_arr.append((strout, 'accent'))\n",
    "#                                 elif texout_arr[-1][0] in accents:\n",
    "#                                     strout = get_replacement_tex(tex_doc_accent, s, is3,ss, verbose=verbose)\n",
    "#                                     texout_arr[-1] = ((texout_arr[-1][0] + strout, 'accent')) # put together\n",
    "#                                 else:\n",
    "#                                     texout_arr.append((strout, 'text'))\n",
    "#                             else: # for all comments\n",
    "#                                 texout_arr.append((strout, 'comment'))\n",
    "#                         else: # just whitespace\n",
    "#                             texout_arr.append((strout,'whitespace'))\n",
    "#                     elif 'cite' in ss.name: # citations\n",
    "#                         strout = get_replacement_tex(tex_doc_accent, s, is3,ss, verbose=verbose)\n",
    "#                         texout_arr.append((strout, 'citation'))\n",
    "#                     elif 'ref' in ss.name: # references\n",
    "#                         strout = get_replacement_tex(tex_doc_accent, s, is3,ss, verbose=verbose)\n",
    "#                         texout_arr.append((strout, 'reference'))\n",
    "#                     elif type(ss.expr) == TexSoup.data.TexMathModeEnv: # inline math\n",
    "#                         strout = get_replacement_tex(tex_doc_accent, s, is3,ss, verbose=verbose)\n",
    "#                         texout_arr.append((strout,'inline'))\n",
    "#                     elif type(ss.expr) == TexSoup.data.BraceGroup:\n",
    "#                         strout = get_replacement_tex(tex_doc_accent, s, is3,ss, verbose=verbose)\n",
    "#                         isAccent = False\n",
    "#                         for a in accents:\n",
    "#                             if a in strout:\n",
    "#                                 isAccent = True\n",
    "#                         if not isAccent:\n",
    "#                             for a in accents_alone:\n",
    "#                                 if a in strout:\n",
    "#                                     isAccent = True\n",
    "#                         if isAccent:\n",
    "#                             texout_arr.append((strout,'accent'))\n",
    "#                         else:\n",
    "#                             # possible that last one is an accent\n",
    "#                             if texout_arr[-1][0] in accents:\n",
    "#                                 texout_arr[-1] = ((texout_arr[-1][0] + strout, 'accent')) # put together\n",
    "#                             else: # just a bracket\n",
    "#                                 texout_arr.append((strout,'bracket'))\n",
    "#                     else: # a command or named environment\n",
    "#                         # special ones\n",
    "#                         if str(ss.expr).strip() == '\\\\S':\n",
    "#                             strout = get_replacement_tex(tex_doc_accent, s, is3,ss, verbose=verbose)\n",
    "#                             texout_arr.append((strout, 'S-command'))\n",
    "#                         elif type(ss.expr) == TexSoup.data.TexNamedEnv:\n",
    "#                             strout = get_replacement_tex(tex_doc_accent, s, is3,ss, verbose=verbose)\n",
    "#                             #if 'eqnarray' in str(ss): import sys; sys.exit()\n",
    "#                             texout_arr.append((strout, 'namedEnv'))\n",
    "#                         elif str(ss.expr) in accents_alone: # accent alone\n",
    "#                             strout = get_replacement_tex(tex_doc_accent, s, is3,ss, verbose=verbose)\n",
    "#                             texout_arr.append((strout, 'accent'))\n",
    "#                         elif texout_arr[-1][0] in accents:\n",
    "#                             strout = get_replacement_tex(tex_doc_accent, s, is3,ss, verbose=verbose)\n",
    "#                             texout_arr[-1] = ((texout_arr[-1][0] + strout, 'accent')) # put together\n",
    "#                             #import sys; sys.exit()\n",
    "#                         else:\n",
    "#                             strout = get_replacement_tex(tex_doc_accent, s, is3,ss, verbose=verbose)\n",
    "#                             texout_arr.append((strout,'commandOrBracket'))\n",
    "\n",
    "#             else:\n",
    "#                 continue\n",
    "#             texout_arr.append(('\\\\end{document}\\n','endDoc'))\n",
    "#         else: # something else -- outside of document\n",
    "#             print('not in begin/end!', s)\n",
    "#             #import sys; sys.exit()\n",
    "#             ##errorAll = True\n",
    "#             strout = get_replacement_tex(tex_doc_accent, soup, isss,s, verbose=verbose)\n",
    "#             texout_arr.append((strout,'outside'))\n",
    "#     else: # typically \\usepackage commands, \\documentclass, etc\n",
    "#         strout = get_replacement_tex(tex_doc_accent, soup, isss,s, verbose=verbose)\n",
    "#         texout_arr.append((strout, 'others'))\n"
   ]
  },
  {
   "cell_type": "code",
   "execution_count": 125,
   "id": "bf7bb748-0ece-4e44-a0bf-5733ac9542ea",
   "metadata": {
    "tags": []
   },
   "outputs": [],
   "source": [
    "texout_arr = parse_soup(soup,tex_doc_nc,verbose=False)"
   ]
  },
  {
   "cell_type": "code",
   "execution_count": 127,
   "id": "91daa4c3-728d-41c7-88a6-948f590c43d1",
   "metadata": {
    "tags": []
   },
   "outputs": [
    {
     "name": "stdout",
     "output_type": "stream",
     "text": [
      "------ others -----\n",
      "\\documentclass[a4paper]{article}\n",
      "------ others -----\n",
      "\n",
      "\n",
      "------ others -----\n",
      "\n",
      "\n",
      "------ others -----\n",
      "\\usepackage{hyperref}\n",
      "------ others -----\n",
      "\n",
      "\n",
      "------ others -----\n",
      "\n",
      "\n",
      "------ others -----\n",
      "%\\newcommand{\\be}{\\begin{equation}}\n",
      "------ others -----\n",
      "\n",
      "\n",
      "------ others -----\n",
      "%\\newcommand{\\ee}{\\end{equation}}\n",
      "------ others -----\n",
      "\n",
      "\n",
      "------ others -----\n",
      "\n",
      "\n",
      "------ others -----\n",
      "%\\newcommand{\\bee}[1]{\\begin{equation}\\label{e:#1}}\n",
      "------ others -----\n",
      "\n",
      "\n",
      "------ others -----\n",
      "%\\newcommand{\\eee}{\\end{equation}}\n",
      "------ others -----\n",
      "\n",
      "\n",
      "------ others -----\n",
      "\n",
      "\n",
      "------ others -----\n",
      "%\\newcommand{\\beee}[2]{\\begin{equation}\\label{e:#1} #2}\n",
      "------ others -----\n",
      "\n",
      "\n",
      "------ others -----\n",
      "%\\newcommand{\\eeee}{\\end{equation}}\n",
      "------ others -----\n",
      "\n",
      "\n",
      "------ others -----\n",
      "\n",
      "\n",
      "------ others -----\n",
      "\n",
      "\n",
      "------ others -----\n",
      "\\def \\etal {{\\em et al.}}\n",
      "------ others -----\n",
      "\n",
      "\n",
      "------ others -----\n",
      "\n",
      "\n",
      "------ beginDoc -----\n",
      "\\begin{document}\n",
      "\n",
      "------ whitespace -----\n",
      "\n",
      "\n",
      "------ whitespace -----\n",
      "\n",
      "\n",
      "------ commandOrBracket -----\n",
      "\\section{Waffles waffles waffles}\n",
      "------ whitespace -----\n",
      "\n",
      "\n",
      "------ whitespace -----\n",
      "\n",
      "\n",
      "------ commandOrBracket -----\n",
      "\\subsection{Waffles are cooler than you}\n",
      "------ whitespace -----\n",
      "\n",
      "\n",
      "------ text -----\n",
      "\n",
      "Waffles have significantly more pockets than you.  \n",
      "\n",
      "\n",
      "------ commandOrBracket -----\n",
      "\\[\n",
      "P(W) > P(\\rm{you})\n",
      "\\]\n",
      "------ whitespace -----\n",
      "\n",
      "\n",
      "------ text -----\n",
      "\n",
      "Ok, maybe you are at least as cool as waffles:\n",
      "\n",
      "\n",
      "------ commandOrBracket -----\n",
      "$$\n",
      "C_{ool}(\\rm{you}) \\ge C_{ool}(W)\n",
      "$$\n",
      "------ whitespace -----\n",
      "\n",
      "\n",
      "------ text -----\n",
      "\n",
      "Sometimes though, you might type things in silly ways \n",
      "------ inline -----\n",
      "$C_ {ool  } (\\rm{anybody}) >   0$\n",
      "------ text -----\n",
      ".\n",
      "\n",
      "\n",
      "------ namedEnv -----\n",
      "\\begin{equation}\n",
      "C_{   ool} \\ne 0\n",
      "\\end{equation}\n",
      "------ whitespace -----\n",
      "\n",
      "\n",
      "------ text -----\n",
      "\n",
      "Also, let's do a silly redefined an equation:\n",
      "\n",
      "------ namedEnv -----\n",
      "\\begin{equation}\n",
      "C = C_2 + 1\n",
      "\\end{equation}\n",
      "------ whitespace -----\n",
      "\n",
      "\n",
      "------ text -----\n",
      "\n",
      "Also also, just one more time:\n",
      "\n",
      "------ namedEnv -----\n",
      "\\begin{equation}\n",
      "C = C_2 + 1\n",
      "\\end{equation}\n",
      "------ whitespace -----\n",
      "\n",
      "\n",
      "------ whitespace -----\n",
      "\n",
      "\n",
      "------ text -----\n",
      "\n",
      "Sometimes I like to write with weird commands like Naiman \n",
      "------ commandOrBracket -----\n",
      "\\etal\\ \n",
      "------ text -----\n",
      "which can make it tricky to parse things.\n",
      "\n",
      "\n",
      "------ namedEnv -----\n",
      "\\begin{equation}\\label{e:lenseq}\n",
      "    A(\\xi) = \\frac12\\left(\\xi+\\frac1\\xi\\right),\n",
      "\\end{equation}\n",
      "------ whitespace -----\n",
      "\n",
      "\n",
      "------ whitespace -----\n",
      "\n",
      "\n",
      "------ namedEnv -----\n",
      "\\begin{equation}\\label{e:lenseq2} A(x)=5\\end{equation}\n",
      "------ whitespace -----\n",
      "\n",
      "\n",
      "------ text -----\n",
      "\n",
      "Getting some refs in \n",
      "------ reference -----\n",
      "\\ref{lenseq}\n",
      "------ text -----\n",
      " and \n",
      "------ reference -----\n",
      "\\ref{lenseq2}\n",
      "------ text -----\n",
      ".\n",
      "\n",
      "Let me also try out s\n",
      "------ accent -----\n",
      "\\`ome accents in d\n",
      "------ accent -----\n",
      "{\\\"{i}}\n",
      "------ text -----\n",
      "ff\n",
      "------ accent -----\n",
      "\\'e\n",
      "------ accent -----\n",
      "\\'r\n",
      "------ accent -----\n",
      "\\`ent f\n",
      "------ accent -----\n",
      "\\'{o}\n",
      "------ text -----\n",
      "rms. Doin\n",
      "------ accent -----\n",
      "\\`{g}\n",
      "------ text -----\n",
      " it.\n",
      "\n",
      "\n",
      "------ accent -----\n",
      "\\'Ok great!\n",
      "\n",
      "Well that was fun!\n",
      "\n",
      "\n",
      "\n",
      "------ endDoc -----\n",
      "\\end{document}\n",
      "\n",
      "------ others -----\n",
      "\n",
      "\n"
     ]
    }
   ],
   "source": [
    "for t,ttype in texout_arr:\n",
    "    print('------', ttype, '-----')\n",
    "    print(t)"
   ]
  },
  {
   "cell_type": "code",
   "execution_count": 25,
   "id": "963cf57f-ce56-47ff-a903-f59f75de7d0b",
   "metadata": {
    "tags": []
   },
   "outputs": [
    {
     "data": {
      "text/plain": [
       "[('\\\\`{g}', 'accent'),\n",
       " (' it.\\n\\n', 'text'),\n",
       " (\"\\\\'Ok great!\\n\\nWell that was fun!\\n\\n\\n\", 'accent'),\n",
       " ('\\\\end{document}\\n', 'endDoc'),\n",
       " ('\\n', 'others')]"
      ]
     },
     "execution_count": 25,
     "metadata": {},
     "output_type": "execute_result"
    }
   ],
   "source": [
    "texout_arr[-5:]"
   ]
  },
  {
   "cell_type": "code",
   "execution_count": null,
   "id": "a7df1d6f-920e-4ea3-b84d-b79c2b02b77f",
   "metadata": {},
   "outputs": [],
   "source": []
  },
  {
   "cell_type": "code",
   "execution_count": null,
   "id": "85475d39-643d-4347-8677-8eb189e1efd0",
   "metadata": {},
   "outputs": [],
   "source": []
  },
  {
   "cell_type": "code",
   "execution_count": 26,
   "id": "1836cd59-0cd2-4686-8c48-968b875dc69f",
   "metadata": {
    "tags": []
   },
   "outputs": [],
   "source": [
    "from string import whitespace"
   ]
  },
  {
   "cell_type": "code",
   "execution_count": 90,
   "id": "cbdc0887-d6a2-4cab-9bd4-5fba362953b9",
   "metadata": {
    "tags": []
   },
   "outputs": [],
   "source": [
    "# combine accents\n",
    "texout_arr2 = []\n",
    "text = ''\n",
    "for it,(t,ttype) in enumerate(texout_arr):\n",
    "    if ttype == 'accent':\n",
    "        # what is the ender of the last one?\n",
    "        if texout_arr2[-1][0][-1] not in whitespace: # yup, connect the two together\n",
    "            texout_arr2[-1] = ((texout_arr2[-1][0]+t,'textWithAccent'))\n",
    "            #import sys; sys.exit()\n",
    "        else: # just leave as is\n",
    "            texout_arr2.append((t,'textWithAccent'))\n",
    "    else:\n",
    "        texout_arr2.append((t,ttype))\n",
    "        \n",
    "# also combine before... \n",
    "# should probably do this in one loop for efficiency but... you know how it goes\n",
    "texout_arr3 = []\n",
    "skips = 0\n",
    "for it,(t,ttype) in enumerate(texout_arr2):\n",
    "    if skips==0:\n",
    "        #if it>66: import sys; sys.exit()\n",
    "        if ttype == 'textWithAccent': #check after\n",
    "            ik = 1\n",
    "            if it+ik < len(texout_arr2)-1: # not at end\n",
    "                c = texout_arr2[it+ik][0]\n",
    "                cout = ''\n",
    "                #import sys; sys.exit()\n",
    "                #print('b:', c)\n",
    "                #print('b:', cout)\n",
    "                if c[0] not in whitespace:\n",
    "                    #print('here')\n",
    "                    #import sys; sys.exit()\n",
    "                    while c[0] not in whitespace and it+ik < len(texout_arr2)-1:\n",
    "                        c = texout_arr2[it+ik][0]\n",
    "                        #print(c)\n",
    "                        cout += c\n",
    "                        #print(cout)\n",
    "                        ik += 1\n",
    "                        #print('also here')\n",
    "                    #print('now here')\n",
    "                    #import sys; sys.exit()\n",
    "                    # if texout_arr2[it+1][0][0] not in whitespace: # have non-whitespace\n",
    "                    #     texout_arr3.append((t+texout_arr2[it+1][0],'textWithAccent'))\n",
    "                    #     skip=True\n",
    "                    #     print(texout_arr3[-1])\n",
    "                    #     import sys; sys.exit()\n",
    "                    #import sys; sys.exit()\n",
    "                    texout_arr3.append((t+cout, 'textWithAccent'))\n",
    "                    skips = ik-1\n",
    "                    #if skips != 3: import sys; sys.exit()\n",
    "                    #import sys; sys.exit()\n",
    "                else: # have whitespace, should be it's own thing\n",
    "                    texout_arr3.append((t,ttype))\n",
    "            else:\n",
    "                texout_arr3.append((t,ttype))\n",
    "        else:\n",
    "            texout_arr3.append((t,ttype))\n",
    "    else:\n",
    "        #print(skips, \":\", t)\n",
    "        #print(texout_arr3[-1])\n",
    "        skips -= 1"
   ]
  },
  {
   "cell_type": "code",
   "execution_count": 92,
   "id": "81b3124a-1515-4082-be2b-3e73d23e4579",
   "metadata": {
    "tags": []
   },
   "outputs": [],
   "source": [
    "# for t,ttype in texout_arr3:\n",
    "#     print('----------',ttype,'----------')\n",
    "#     print(t)"
   ]
  },
  {
   "cell_type": "code",
   "execution_count": null,
   "id": "aeabf53a-b648-40b3-bd22-e774d820fe74",
   "metadata": {},
   "outputs": [],
   "source": []
  },
  {
   "cell_type": "code",
   "execution_count": null,
   "id": "19ef2786-4903-42b7-a42d-4573118ab0e7",
   "metadata": {},
   "outputs": [],
   "source": []
  }
 ],
 "metadata": {
  "kernelspec": {
   "display_name": "Python 3 (ipykernel)",
   "language": "python",
   "name": "python3"
  },
  "language_info": {
   "codemirror_mode": {
    "name": "ipython",
    "version": 3
   },
   "file_extension": ".py",
   "mimetype": "text/x-python",
   "name": "python",
   "nbconvert_exporter": "python",
   "pygments_lexer": "ipython3",
   "version": "3.9.16"
  }
 },
 "nbformat": 4,
 "nbformat_minor": 5
}
