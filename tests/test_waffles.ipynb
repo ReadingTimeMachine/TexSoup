{
 "cells": [
  {
   "cell_type": "markdown",
   "id": "6e25dd99-592e-49cd-8707-c7b0d9d4e655",
   "metadata": {},
   "source": [
    "Less of a unit test, more an exploration of waffles."
   ]
  },
  {
   "cell_type": "code",
   "execution_count": 98,
   "id": "f22d445b-d4a2-4690-85d3-469bb6ea24ad",
   "metadata": {
    "tags": []
   },
   "outputs": [],
   "source": [
    "filename = 'samples/waffle.tex'"
   ]
  },
  {
   "cell_type": "code",
   "execution_count": 99,
   "id": "d5495772-d60c-4964-bb22-110e3c95d4d9",
   "metadata": {
    "tags": []
   },
   "outputs": [],
   "source": [
    "# debug\n",
    "from importlib import reload\n",
    "import TexSoup\n",
    "reload(TexSoup)\n",
    "\n",
    "import TexSoup\n",
    "import re\n",
    "import numpy as np\n",
    "\n",
    "from TexSoup import preprocessing, postprocess"
   ]
  },
  {
   "cell_type": "code",
   "execution_count": 100,
   "id": "9df34cf2-b722-46c7-ad69-8d71e2133028",
   "metadata": {
    "tags": []
   },
   "outputs": [],
   "source": [
    "with open(filename,'r') as f:\n",
    "    tex_doc = f.read()"
   ]
  },
  {
   "cell_type": "markdown",
   "id": "db883bf6-a509-49f5-8d73-4687286f6621",
   "metadata": {},
   "source": [
    "Sometimes there are weird errors like spaces in begins/ends -- fix these first:"
   ]
  },
  {
   "cell_type": "code",
   "execution_count": 102,
   "id": "afc92ee9-eabb-4946-bd7d-29ca01e7ded3",
   "metadata": {
    "tags": []
   },
   "outputs": [],
   "source": [
    "tex_doc = preprocessing.process_begin_end(tex_doc)"
   ]
  },
  {
   "cell_type": "markdown",
   "id": "a5d144bf-263a-4fa8-ba66-e09d8e04fff5",
   "metadata": {},
   "source": [
    "Clean accents in case folks did something funny:"
   ]
  },
  {
   "cell_type": "code",
   "execution_count": 103,
   "id": "b5a07544-9edf-4aca-b973-7d2bbbe46a54",
   "metadata": {
    "tags": []
   },
   "outputs": [],
   "source": [
    "tex_doc, error_accents = preprocessing.clean_accents(tex_doc)"
   ]
  },
  {
   "cell_type": "code",
   "execution_count": 104,
   "id": "0e76eb94-a93d-4dcf-9f99-60285f8d0a0b",
   "metadata": {
    "tags": []
   },
   "outputs": [],
   "source": [
    "#print(tex_doc)"
   ]
  },
  {
   "cell_type": "markdown",
   "id": "b4b0751f-8895-4567-b30c-1a21c3b31cf5",
   "metadata": {},
   "source": [
    "Get new commands and enviroments -- we need to these to check if there are `\\begin` and `\\end` in these, so first, get them!"
   ]
  },
  {
   "cell_type": "code",
   "execution_count": 105,
   "id": "14c27eab-aa8a-4e86-8706-2c8fe77523ad",
   "metadata": {
    "tags": []
   },
   "outputs": [],
   "source": [
    "newcommands, newenvironments = preprocessing.get_newcommands_and_newenvs(tex_doc,\n",
    "                                                                         verbose=True)"
   ]
  },
  {
   "cell_type": "markdown",
   "id": "74fb9696-6ecd-468a-b255-3391e8bc3444",
   "metadata": {},
   "source": [
    "Get the argument numbers for these -- will need this for search-replace:"
   ]
  },
  {
   "cell_type": "code",
   "execution_count": 106,
   "id": "d5da4446-c164-4105-9474-07d6c57f8d49",
   "metadata": {
    "tags": []
   },
   "outputs": [],
   "source": [
    "args_newcommands = preprocessing.find_args_newcommands(newcommands,error_out=True, verbose=True)"
   ]
  },
  {
   "cell_type": "code",
   "execution_count": 107,
   "id": "442393ed-4e35-411e-bae2-0dd6c2521c81",
   "metadata": {
    "tags": []
   },
   "outputs": [
    {
     "data": {
      "text/plain": [
       "[['\\\\be', '\\\\newcommand{\\\\be}{\\\\begin{equation}}', 57, 91, 0],\n",
       " ['\\\\ee', '\\\\newcommand{\\\\ee}{\\\\end{equation}}', 92, 124, 0],\n",
       " ['\\\\bee',\n",
       "  '\\\\newcommand{\\\\bee}[1]{\\\\begin{equation}\\\\label{e:#1}}',\n",
       "  126,\n",
       "  176,\n",
       "  1],\n",
       " ['\\\\eee', '\\\\newcommand{\\\\eee}{\\\\end{equation}}', 177, 210, 0],\n",
       " ['\\\\beee',\n",
       "  '\\\\newcommand{\\\\beee}[2]{\\\\begin{equation}\\\\label{e:#1} #2}',\n",
       "  212,\n",
       "  266,\n",
       "  2],\n",
       " ['\\\\eeee', '\\\\newcommand{\\\\eeee}{\\\\end{equation}}', 267, 301, 0],\n",
       " ['\\\\etal ', '\\\\def \\\\etal {{\\\\em et al.}}', 304, 329, 0]]"
      ]
     },
     "execution_count": 107,
     "metadata": {},
     "output_type": "execute_result"
    }
   ],
   "source": [
    "args_newcommands"
   ]
  },
  {
   "cell_type": "code",
   "execution_count": 108,
   "id": "8286ed78-d464-45c1-a109-ec07d68d477d",
   "metadata": {
    "tags": []
   },
   "outputs": [],
   "source": [
    "args_newenvironments = preprocessing.find_args_newenvironments(newenvironments,\n",
    "                                                               error_out=True, verbose=True)"
   ]
  },
  {
   "cell_type": "code",
   "execution_count": 109,
   "id": "d16d5526-15cd-4239-9f09-c2da2a6deba2",
   "metadata": {
    "tags": []
   },
   "outputs": [
    {
     "data": {
      "text/plain": [
       "[]"
      ]
     },
     "execution_count": 109,
     "metadata": {},
     "output_type": "execute_result"
    }
   ],
   "source": [
    "args_newenvironments"
   ]
  },
  {
   "cell_type": "code",
   "execution_count": 110,
   "id": "8cccec4e-1ddb-4192-8950-1af4dfac1490",
   "metadata": {
    "tags": []
   },
   "outputs": [],
   "source": [
    "comments, find_replace, error = preprocessing.generate_find_replace_newcommands(args_newcommands, \n",
    "                                                               verbose=True,arg_type = 'newcommand')"
   ]
  },
  {
   "cell_type": "markdown",
   "id": "58c2e83c-3adb-45fa-b497-1a24ac847c7f",
   "metadata": {},
   "source": [
    "Replace newcommands and environments:"
   ]
  },
  {
   "cell_type": "code",
   "execution_count": 111,
   "id": "d77ddd7e-7cf5-4b0c-a6a0-4c3d6806be1c",
   "metadata": {
    "tags": []
   },
   "outputs": [
    {
     "name": "stdout",
     "output_type": "stream",
     "text": [
      "args for: \\newcommand{\\bee}[1]{\\begin{equation}\\label{e:#1}}\n",
      "{1: 'lenseq'}\n",
      "args for: \\newcommand{\\beee}[2]{\\begin{equation}\\label{e:#1} #2}\n",
      "{1: 'lenseq2', 2: 'A(x)=5'}\n",
      "\n",
      "\\newcommand{\\be}{\\begin{equation}} gets commented\n",
      "\\newcommand{\\ee}{\\end{equation}} gets commented\n",
      "\\newcommand{\\bee}[1]{\\begin{equation}\\label{e:#1}} gets commented\n",
      "\\newcommand{\\eee}{\\end{equation}} gets commented\n",
      "\\newcommand{\\beee}[2]{\\begin{equation}\\label{e:#1} #2} gets commented\n",
      "\\newcommand{\\eeee}{\\end{equation}} gets commented\n"
     ]
    }
   ],
   "source": [
    "tex_doc_nc, error, warnings = preprocessing.replace_newcommands_and_newenvironments(tex_doc, \n",
    "                                                                          args_newcommands,\n",
    "                                                                          args_newenvironments,\n",
    "                                                                          verbose=True)"
   ]
  },
  {
   "cell_type": "code",
   "execution_count": 112,
   "id": "fa3e8ea8-53c0-4ce3-85ce-aaebf51bc300",
   "metadata": {
    "tags": []
   },
   "outputs": [],
   "source": [
    "soup = TexSoup.TexSoup(r''+tex_doc_nc, tolerance=0)"
   ]
  },
  {
   "cell_type": "code",
   "execution_count": 114,
   "id": "5219a965-d4ee-4b62-9d3e-1e6a675ca19e",
   "metadata": {
    "tags": []
   },
   "outputs": [],
   "source": [
    "soup_clean = postprocess.clean_slash_commands(soup)"
   ]
  },
  {
   "cell_type": "code",
   "execution_count": 115,
   "id": "39394b3e-b816-42f6-87a1-633d0a0eded8",
   "metadata": {
    "tags": []
   },
   "outputs": [
    {
     "name": "stdout",
     "output_type": "stream",
     "text": [
      "----------- soup element = 0 ---------------\n",
      "----------- soup element = 1 ---------------\n",
      "----------- soup element = 2 ---------------\n",
      "----------- soup element = 3 ---------------\n",
      "----------- soup element = 4 ---------------\n",
      "----------- soup element = 5 ---------------\n",
      "----------- soup element = 6 ---------------\n",
      "----------- soup element = 7 ---------------\n",
      "----------- soup element = 8 ---------------\n",
      "----------- soup element = 9 ---------------\n",
      "----------- soup element = 10 ---------------\n",
      "----------- soup element = 11 ---------------\n",
      "----------- soup element = 12 ---------------\n",
      "----------- soup element = 13 ---------------\n",
      "----------- soup element = 14 ---------------\n",
      "----------- soup element = 15 ---------------\n",
      "----------- soup element = 16 ---------------\n",
      "----------- soup element = 17 ---------------\n",
      "----------- soup element = 18 ---------------\n",
      "----------- soup element = 19 ---------------\n",
      "----------- soup element = 20 ---------------\n",
      "----------- soup element = 21 ---------------\n",
      "----------- soup element = 22 ---------------\n",
      "----------- soup element = 23 ---------------\n",
      "----------- soup element = 24 ---------------\n",
      "----------- soup element = 25 ---------------\n",
      "----------- sub-soup element = 0 ---------------\n",
      "<class 'TexSoup.data.TexText'>\n",
      "\n",
      "\n",
      "-----------------\n",
      "----------- sub-soup element = 1 ---------------\n",
      "<class 'TexSoup.data.TexText'>\n",
      "\n",
      "\n",
      "-----------------\n",
      "----------- sub-soup element = 2 ---------------\n",
      "<class 'TexSoup.data.TexCmd'>\n",
      "\\section{Waffles waffles waffles}\n",
      "-----------------\n",
      "----------- sub-soup element = 3 ---------------\n",
      "<class 'TexSoup.data.TexText'>\n",
      "\n",
      "\n",
      "-----------------\n",
      "----------- sub-soup element = 4 ---------------\n",
      "<class 'TexSoup.data.TexText'>\n",
      "\n",
      "\n",
      "-----------------\n",
      "----------- sub-soup element = 5 ---------------\n",
      "<class 'TexSoup.data.TexCmd'>\n",
      "\\subsection{Waffles are cooler than you}\n",
      "-----------------\n",
      "----------- sub-soup element = 6 ---------------\n",
      "<class 'TexSoup.data.TexText'>\n",
      "\n",
      "\n",
      "-----------------\n",
      "----------- sub-soup element = 7 ---------------\n",
      "<class 'TexSoup.data.TexText'>\n",
      "\n",
      "Waffles have significantly more pockets than you.  \n",
      "\n",
      "\n",
      "-----------------\n",
      "----------- sub-soup element = 8 ---------------\n",
      "<class 'TexSoup.data.TexDisplayMathEnv'>\n",
      "\\[\n",
      "P(W) > P(\\rm{you})\n",
      "\\]\n",
      "-----------------\n",
      "----------- sub-soup element = 9 ---------------\n",
      "<class 'TexSoup.data.TexText'>\n",
      "\n",
      "\n",
      "-----------------\n",
      "----------- sub-soup element = 10 ---------------\n",
      "<class 'TexSoup.data.TexText'>\n",
      "\n",
      "Ok, maybe you are at least as cool as waffles:\n",
      "\n",
      "\n",
      "-----------------\n",
      "----------- sub-soup element = 11 ---------------\n",
      "<class 'TexSoup.data.TexDisplayMathModeEnv'>\n",
      "$$\n",
      "C_{ool}(\\rm{you}) \\ge C_{ool}(W)\n",
      "$$\n",
      "-----------------\n",
      "----------- sub-soup element = 12 ---------------\n",
      "<class 'TexSoup.data.TexText'>\n",
      "\n",
      "\n",
      "-----------------\n",
      "----------- sub-soup element = 13 ---------------\n",
      "<class 'TexSoup.data.TexText'>\n",
      "\n",
      "Sometimes though, you might type things in silly ways \n",
      "-----------------\n",
      "----------- sub-soup element = 14 ---------------\n",
      "<class 'TexSoup.data.TexMathModeEnv'>\n",
      "$C_ {ool  } (\\rm{anybody}) >   0$\n",
      "-----------------\n",
      "----------- sub-soup element = 15 ---------------\n",
      "<class 'TexSoup.data.TexText'>\n",
      ".\n",
      "\n",
      "\n",
      "-----------------\n",
      "----------- sub-soup element = 16 ---------------\n",
      "<class 'TexSoup.data.TexNamedEnv'>\n",
      "\\begin{equation}\n",
      "C_{   ool} \\ne 0\n",
      "\\end{equation}\n",
      "-----------------\n",
      "----------- sub-soup element = 17 ---------------\n",
      "<class 'TexSoup.data.TexText'>\n",
      "\n",
      "\n",
      "-----------------\n",
      "----------- sub-soup element = 18 ---------------\n",
      "<class 'TexSoup.data.TexText'>\n",
      "\n",
      "Also, let's do a silly redefined an equation:\n",
      "\n",
      "-----------------\n",
      "----------- sub-soup element = 19 ---------------\n",
      "<class 'TexSoup.data.TexNamedEnv'>\n",
      "\\begin{equation}\n",
      "C = C_2 + 1\n",
      "\\end{equation}\n",
      "-----------------\n",
      "----------- sub-soup element = 20 ---------------\n",
      "<class 'TexSoup.data.TexText'>\n",
      "\n",
      "\n",
      "-----------------\n",
      "----------- sub-soup element = 21 ---------------\n",
      "<class 'TexSoup.data.TexText'>\n",
      "\n",
      "Also also, just one more time:\n",
      "\n",
      "-----------------\n",
      "----------- sub-soup element = 22 ---------------\n",
      "<class 'TexSoup.data.TexNamedEnv'>\n",
      "\\begin{equation}\n",
      "C = C_2 + 1\n",
      "\\end{equation}\n",
      "-----------------\n",
      "----------- sub-soup element = 23 ---------------\n",
      "<class 'TexSoup.data.TexText'>\n",
      "\n",
      "\n",
      "-----------------\n",
      "----------- sub-soup element = 24 ---------------\n",
      "<class 'TexSoup.data.TexText'>\n",
      "\n",
      "\n",
      "-----------------\n",
      "----------- sub-soup element = 25 ---------------\n",
      "<class 'TexSoup.data.TexText'>\n",
      "\n",
      "Sometimes I like to write with weird commands like Naiman \n",
      "-----------------\n",
      "----------- sub-soup element = 26 ---------------\n",
      "<class 'TexSoup.data.TexCmd'>\n",
      "\\etal\\ \n",
      "-----------------\n",
      "----------- sub-soup element = 27 ---------------\n",
      "<class 'TexSoup.data.TexText'>\n",
      "which can make it tricky to parse things.\n",
      "\n",
      "\n",
      "-----------------\n",
      "----------- sub-soup element = 28 ---------------\n",
      "<class 'TexSoup.data.TexNamedEnv'>\n",
      "\\begin{equation}\\label{e:lenseq}\n",
      "    A(\\xi) = \\frac12\\left(\\xi+\\frac1\\xi\\right),\n",
      "\\end{equation}\n",
      "-----------------\n",
      "----------- sub-soup element = 29 ---------------\n",
      "<class 'TexSoup.data.TexText'>\n",
      "\n",
      "\n",
      "-----------------\n",
      "----------- sub-soup element = 30 ---------------\n",
      "<class 'TexSoup.data.TexText'>\n",
      "\n",
      "\n",
      "-----------------\n",
      "----------- sub-soup element = 31 ---------------\n",
      "<class 'TexSoup.data.TexNamedEnv'>\n",
      "\\begin{equation}\\label{e:lenseq2} A(x)=5\\end{equation}\n",
      "-----------------\n",
      "----------- sub-soup element = 32 ---------------\n",
      "<class 'TexSoup.data.TexText'>\n",
      "\n",
      "\n",
      "-----------------\n",
      "----------- sub-soup element = 33 ---------------\n",
      "<class 'TexSoup.data.TexText'>\n",
      "\n",
      "Getting some refs in \n",
      "-----------------\n",
      "----------- sub-soup element = 34 ---------------\n",
      "<class 'TexSoup.data.TexCmd'>\n",
      "\\ref{lenseq}\n",
      "-----------------\n",
      "----------- sub-soup element = 35 ---------------\n",
      "<class 'TexSoup.data.TexText'>\n",
      " and \n",
      "-----------------\n",
      "----------- sub-soup element = 36 ---------------\n",
      "<class 'TexSoup.data.TexCmd'>\n",
      "\\ref{lenseq2}\n",
      "-----------------\n",
      "----------- sub-soup element = 37 ---------------\n",
      "<class 'TexSoup.data.TexText'>\n",
      ".\n",
      "\n",
      "Let me also try out s\n",
      "-----------------\n",
      "----------- sub-soup element = 38 ---------------\n",
      "<class 'TexSoup.data.TexText'>\n",
      "\\`\n",
      "-----------------\n",
      "----------- sub-soup element = 39 ---------------\n",
      "<class 'TexSoup.data.TexText'>\n",
      "ome accents in d\n",
      "-----------------\n",
      "----------- sub-soup element = 40 ---------------\n",
      "<class 'TexSoup.data.BraceGroup'>\n",
      "{\\\"{i}}\n",
      "-----------------\n",
      "----------- sub-soup element = 41 ---------------\n",
      "<class 'TexSoup.data.TexText'>\n",
      "ff\n",
      "-----------------\n",
      "----------- sub-soup element = 42 ---------------\n",
      "<class 'TexSoup.data.TexText'>\n",
      "\\'\n",
      "-----------------\n",
      "----------- sub-soup element = 43 ---------------\n",
      "<class 'TexSoup.data.TexText'>\n",
      "e\n",
      "-----------------\n",
      "----------- sub-soup element = 44 ---------------\n",
      "<class 'TexSoup.data.TexText'>\n",
      "\\'\n",
      "-----------------\n",
      "----------- sub-soup element = 45 ---------------\n",
      "<class 'TexSoup.data.TexText'>\n",
      "r\n",
      "-----------------\n",
      "----------- sub-soup element = 46 ---------------\n",
      "<class 'TexSoup.data.TexText'>\n",
      "\\`\n",
      "-----------------\n",
      "----------- sub-soup element = 47 ---------------\n",
      "<class 'TexSoup.data.TexText'>\n",
      "ent f\n",
      "-----------------\n",
      "----------- sub-soup element = 48 ---------------\n",
      "<class 'TexSoup.data.TexText'>\n",
      "\\'\n",
      "-----------------\n",
      "----------- sub-soup element = 49 ---------------\n",
      "<class 'TexSoup.data.BraceGroup'>\n",
      "{o}\n",
      "-----------------\n",
      "----------- sub-soup element = 50 ---------------\n",
      "<class 'TexSoup.data.TexText'>\n",
      "rms. Doin\n",
      "-----------------\n",
      "----------- sub-soup element = 51 ---------------\n",
      "<class 'TexSoup.data.TexText'>\n",
      "\\`\n",
      "-----------------\n",
      "----------- sub-soup element = 52 ---------------\n",
      "<class 'TexSoup.data.BraceGroup'>\n",
      "{g}\n",
      "-----------------\n",
      "----------- sub-soup element = 53 ---------------\n",
      "<class 'TexSoup.data.TexText'>\n",
      " it.\n",
      "\n",
      "\n",
      "-----------------\n",
      "----------- sub-soup element = 54 ---------------\n",
      "<class 'TexSoup.data.TexText'>\n",
      "\\'\n",
      "-----------------\n",
      "----------- sub-soup element = 55 ---------------\n",
      "<class 'TexSoup.data.TexText'>\n",
      "Ok great!\n",
      "\n",
      "Well that was fun!\n",
      "\n",
      "\n",
      "\n",
      "-----------------\n",
      "----------- soup element = 26 ---------------\n"
     ]
    }
   ],
   "source": [
    "for iss,s in enumerate(soup_clean.all):\n",
    "    print('----------- soup element =', iss, '---------------')\n",
    "    if type(s.expr) == TexSoup.data.TexNamedEnv: # parts of the text\n",
    "        if 'begin' in s.expr.begin and 'document' in s.expr.begin:\n",
    "            for isss,ss in enumerate(s.all):\n",
    "                print('----------- sub-soup element =', isss, '---------------')\n",
    "                #print(type(ss))\n",
    "                print(type(ss.expr))\n",
    "                print(ss)\n",
    "                print('-----------------')\n",
    "                if str(ss).strip() == '\\\\': # \n",
    "                    import sys; sys.exit()\n",
    "        else:\n",
    "            print(' ******** not in document *********** ')"
   ]
  },
  {
   "cell_type": "code",
   "execution_count": 134,
   "id": "9031c3e3-ee53-49b5-98c3-8cfcde909f58",
   "metadata": {
    "tags": []
   },
   "outputs": [],
   "source": [
    "texout_splits = postprocess.parse_soup_to_tags(soup,tex_doc_nc, verbose=False)"
   ]
  },
  {
   "cell_type": "code",
   "execution_count": 135,
   "id": "a0669457-6ad9-4dc7-b16e-97a3f6329973",
   "metadata": {
    "tags": []
   },
   "outputs": [
    {
     "data": {
      "text/plain": [
       "[('\\\\documentclass[a4paper]{article}', 'others'),\n",
       " ('\\n', 'others'),\n",
       " ('\\n', 'others'),\n",
       " ('\\\\usepackage{hyperref}', 'others'),\n",
       " ('\\n', 'others'),\n",
       " ('\\n', 'others'),\n",
       " ('%\\\\newcommand{\\\\be}{\\\\begin{equation}}', 'others'),\n",
       " ('\\n', 'others'),\n",
       " ('%\\\\newcommand{\\\\ee}{\\\\end{equation}}', 'others'),\n",
       " ('\\n', 'others'),\n",
       " ('\\n', 'others'),\n",
       " ('%\\\\newcommand{\\\\bee}[1]{\\\\begin{equation}\\\\label{e:#1}}', 'others'),\n",
       " ('\\n', 'others'),\n",
       " ('%\\\\newcommand{\\\\eee}{\\\\end{equation}}', 'others'),\n",
       " ('\\n', 'others'),\n",
       " ('\\n', 'others'),\n",
       " ('%\\\\newcommand{\\\\beee}[2]{\\\\begin{equation}\\\\label{e:#1} #2}', 'others'),\n",
       " ('\\n', 'others'),\n",
       " ('%\\\\newcommand{\\\\eeee}{\\\\end{equation}}', 'others'),\n",
       " ('\\n', 'others'),\n",
       " ('\\n', 'others'),\n",
       " ('\\n', 'others'),\n",
       " ('\\\\def \\\\etal {{\\\\em et al.}}', 'others'),\n",
       " ('\\n', 'others'),\n",
       " ('\\n', 'others'),\n",
       " ('\\\\begin{document}\\n', 'beginDoc'),\n",
       " ('\\n', 'whitespace'),\n",
       " ('\\n', 'whitespace'),\n",
       " ('\\\\section{Waffles waffles waffles}', 'commandOrBracket'),\n",
       " ('\\n', 'whitespace'),\n",
       " ('\\n', 'whitespace'),\n",
       " ('\\\\subsection{Waffles are cooler than you}', 'commandOrBracket'),\n",
       " ('\\n', 'whitespace'),\n",
       " ('\\nWaffles have significantly more pockets than you.  \\n\\n', 'text'),\n",
       " ('\\\\[\\nP(W) > P(\\\\rm{you})\\n\\\\]', 'commandOrBracket'),\n",
       " ('\\n', 'whitespace'),\n",
       " ('\\nOk, maybe you are at least as cool as waffles:\\n\\n', 'text'),\n",
       " ('$$\\nC_{ool}(\\\\rm{you}) \\\\ge C_{ool}(W)\\n$$', 'commandOrBracket'),\n",
       " ('\\n', 'whitespace'),\n",
       " ('\\nSometimes though, you might type things in silly ways ', 'text'),\n",
       " ('$C_ {ool  } (\\\\rm{anybody}) >   0$', 'inline'),\n",
       " ('.\\n\\n', 'text'),\n",
       " ('\\\\begin{equation}\\nC_{   ool} \\\\ne 0\\n\\\\end{equation}', 'namedEnv'),\n",
       " ('\\n', 'whitespace'),\n",
       " (\"\\nAlso, let's do a silly redefined an equation:\\n\", 'text'),\n",
       " ('\\\\begin{equation}\\nC = C_2 + 1\\n\\\\end{equation}', 'namedEnv'),\n",
       " ('\\n', 'whitespace'),\n",
       " ('\\nAlso also, just one more time:\\n', 'text'),\n",
       " ('\\\\begin{equation}\\nC = C_2 + 1\\n\\\\end{equation}', 'namedEnv'),\n",
       " ('\\n', 'whitespace'),\n",
       " ('\\n', 'whitespace'),\n",
       " ('\\nSometimes I like to write with weird commands like Naiman ', 'text'),\n",
       " ('\\\\etal\\\\ ', 'commandOrBracket'),\n",
       " ('which can make it tricky to parse things.\\n\\n', 'text'),\n",
       " ('\\\\begin{equation}\\\\label{e:lenseq}\\n    A(\\\\xi) = \\\\frac12\\\\left(\\\\xi+\\\\frac1\\\\xi\\\\right),\\n\\\\end{equation}',\n",
       "  'namedEnv'),\n",
       " ('\\n', 'whitespace'),\n",
       " ('\\n', 'whitespace'),\n",
       " ('\\\\begin{equation}\\\\label{e:lenseq2} A(x)=5\\\\end{equation}', 'namedEnv'),\n",
       " ('\\n', 'whitespace'),\n",
       " ('\\nGetting some refs in ', 'text'),\n",
       " ('\\\\ref{lenseq}', 'reference'),\n",
       " (' and ', 'text'),\n",
       " ('\\\\ref{lenseq2}', 'reference'),\n",
       " ('.\\n\\nLet me also try out s\\\\`ome accents in d{\\\\\"{i}}ff\\\\\\'e\\\\\\'r\\\\`ent f\\\\\\'{o}rms. Doin\\\\`{g} it.\\n\\n',\n",
       "  'textWithAccent'),\n",
       " (\"\\\\'Ok great!\\n\\nWell that was fun!\\n\\n\\n\\\\end{document}\\n\",\n",
       "  'textWithAccent'),\n",
       " ('\\n', 'others')]"
      ]
     },
     "execution_count": 135,
     "metadata": {},
     "output_type": "execute_result"
    }
   ],
   "source": [
    "texout_splits"
   ]
  },
  {
   "cell_type": "code",
   "execution_count": null,
   "id": "aeabf53a-b648-40b3-bd22-e774d820fe74",
   "metadata": {},
   "outputs": [],
   "source": []
  },
  {
   "cell_type": "code",
   "execution_count": null,
   "id": "19ef2786-4903-42b7-a42d-4573118ab0e7",
   "metadata": {},
   "outputs": [],
   "source": []
  }
 ],
 "metadata": {
  "kernelspec": {
   "display_name": "Python 3 (ipykernel)",
   "language": "python",
   "name": "python3"
  },
  "language_info": {
   "codemirror_mode": {
    "name": "ipython",
    "version": 3
   },
   "file_extension": ".py",
   "mimetype": "text/x-python",
   "name": "python",
   "nbconvert_exporter": "python",
   "pygments_lexer": "ipython3",
   "version": "3.9.16"
  }
 },
 "nbformat": 4,
 "nbformat_minor": 5
}
