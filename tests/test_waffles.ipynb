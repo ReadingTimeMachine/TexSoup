{
 "cells": [
  {
   "cell_type": "markdown",
   "id": "6e25dd99-592e-49cd-8707-c7b0d9d4e655",
   "metadata": {},
   "source": [
    "Less of a unit test, more an exploration of waffles."
   ]
  },
  {
   "cell_type": "code",
   "execution_count": 1,
   "id": "f22d445b-d4a2-4690-85d3-469bb6ea24ad",
   "metadata": {
    "tags": []
   },
   "outputs": [],
   "source": [
    "filename = 'samples/waffle.tex'"
   ]
  },
  {
   "cell_type": "code",
   "execution_count": 3,
   "id": "d5495772-d60c-4964-bb22-110e3c95d4d9",
   "metadata": {
    "tags": []
   },
   "outputs": [],
   "source": [
    "# debug\n",
    "from importlib import reload\n",
    "import TexSoup\n",
    "reload(TexSoup)\n",
    "\n",
    "import TexSoup\n",
    "import re\n",
    "import numpy as np\n",
    "\n",
    "from TexSoup import preprocessing"
   ]
  },
  {
   "cell_type": "code",
   "execution_count": 4,
   "id": "9df34cf2-b722-46c7-ad69-8d71e2133028",
   "metadata": {
    "tags": []
   },
   "outputs": [],
   "source": [
    "with open(filename,'r') as f:\n",
    "    tex_doc = f.read()"
   ]
  },
  {
   "cell_type": "markdown",
   "id": "db883bf6-a509-49f5-8d73-4687286f6621",
   "metadata": {},
   "source": [
    "Sometimes there are weird errors like spaces in begins/ends -- fix these first:"
   ]
  },
  {
   "cell_type": "code",
   "execution_count": 5,
   "id": "5c5ddcfe-9b80-42ec-9982-4cb38dd5005f",
   "metadata": {
    "tags": []
   },
   "outputs": [],
   "source": [
    "# from TexSoup import preprocessing\n",
    "# reload(preprocessing)"
   ]
  },
  {
   "cell_type": "code",
   "execution_count": 6,
   "id": "afc92ee9-eabb-4946-bd7d-29ca01e7ded3",
   "metadata": {
    "tags": []
   },
   "outputs": [],
   "source": [
    "tex_doc = preprocessing.process_begin_end(tex_doc)"
   ]
  },
  {
   "cell_type": "markdown",
   "id": "b4b0751f-8895-4567-b30c-1a21c3b31cf5",
   "metadata": {},
   "source": [
    "Get new commands and enviroments -- we need to these to check if there are `\\begin` and `\\end` in these, so first, get them!"
   ]
  },
  {
   "cell_type": "code",
   "execution_count": 7,
   "id": "14c27eab-aa8a-4e86-8706-2c8fe77523ad",
   "metadata": {
    "tags": []
   },
   "outputs": [],
   "source": [
    "newcommands, newenvironments = preprocessing.get_newcommands_and_newenvs(tex_doc,\n",
    "                                                                         verbose=True)"
   ]
  },
  {
   "cell_type": "markdown",
   "id": "74fb9696-6ecd-468a-b255-3391e8bc3444",
   "metadata": {},
   "source": [
    "Get the argument numbers for these -- will need this for search-replace:"
   ]
  },
  {
   "cell_type": "code",
   "execution_count": 8,
   "id": "d5da4446-c164-4105-9474-07d6c57f8d49",
   "metadata": {
    "tags": []
   },
   "outputs": [],
   "source": [
    "args_newcommands = preprocessing.find_args_newcommands(newcommands,error_out=True, verbose=True)"
   ]
  },
  {
   "cell_type": "code",
   "execution_count": 9,
   "id": "442393ed-4e35-411e-bae2-0dd6c2521c81",
   "metadata": {
    "tags": []
   },
   "outputs": [
    {
     "data": {
      "text/plain": [
       "[['\\\\be', '\\\\newcommand{\\\\be}{\\\\begin{equation}}', 34, 68, 0],\n",
       " ['\\\\ee', '\\\\newcommand{\\\\ee}{\\\\end{equation}}', 69, 101, 0],\n",
       " ['\\\\bee',\n",
       "  '\\\\newcommand{\\\\bee}[1]{\\\\begin{equation}\\\\label{e:#1}}',\n",
       "  103,\n",
       "  153,\n",
       "  1],\n",
       " ['\\\\eee', '\\\\newcommand{\\\\eee}{\\\\end{equation}}', 154, 187, 0],\n",
       " ['\\\\beee',\n",
       "  '\\\\newcommand{\\\\beee}[2]{\\\\begin{equation}\\\\label{e:#1} #2}',\n",
       "  189,\n",
       "  243,\n",
       "  2],\n",
       " ['\\\\eeee', '\\\\newcommand{\\\\eeee}{\\\\end{equation}}', 244, 278, 0],\n",
       " ['\\\\etal ', '\\\\def \\\\etal {{\\\\em et al.}}', 281, 306, 0]]"
      ]
     },
     "execution_count": 9,
     "metadata": {},
     "output_type": "execute_result"
    }
   ],
   "source": [
    "args_newcommands"
   ]
  },
  {
   "cell_type": "code",
   "execution_count": 10,
   "id": "8286ed78-d464-45c1-a109-ec07d68d477d",
   "metadata": {
    "tags": []
   },
   "outputs": [],
   "source": [
    "args_newenvironments = preprocessing.find_args_newenvironments(newenvironments,\n",
    "                                                               error_out=True, verbose=True)"
   ]
  },
  {
   "cell_type": "code",
   "execution_count": 11,
   "id": "d16d5526-15cd-4239-9f09-c2da2a6deba2",
   "metadata": {
    "tags": []
   },
   "outputs": [
    {
     "data": {
      "text/plain": [
       "[]"
      ]
     },
     "execution_count": 11,
     "metadata": {},
     "output_type": "execute_result"
    }
   ],
   "source": [
    "args_newenvironments"
   ]
  },
  {
   "cell_type": "code",
   "execution_count": 13,
   "id": "8cccec4e-1ddb-4192-8950-1af4dfac1490",
   "metadata": {
    "tags": []
   },
   "outputs": [],
   "source": [
    "comments, find_replace, error = preprocessing.generate_find_replace_newcommands(args_newcommands, \n",
    "                                                               verbose=True,arg_type = 'newcommand')"
   ]
  },
  {
   "cell_type": "code",
   "execution_count": 14,
   "id": "a5b6a88d-2bb4-4dd3-8e35-4c20e945b28e",
   "metadata": {
    "tags": []
   },
   "outputs": [
    {
     "data": {
      "text/plain": [
       "[('\\\\be', '\\\\begin{equation}', 0),\n",
       " ('\\\\ee', '\\\\end{equation}', 0),\n",
       " ('\\\\bee', '\\\\newcommand{\\\\bee}[1]{\\\\begin{equation}\\\\label{e:#1}}', 1),\n",
       " ('\\\\eee', '\\\\end{equation}', 0),\n",
       " ('\\\\beee', '\\\\newcommand{\\\\beee}[2]{\\\\begin{equation}\\\\label{e:#1} #2}', 2),\n",
       " ('\\\\eeee', '\\\\end{equation}', 0)]"
      ]
     },
     "execution_count": 14,
     "metadata": {},
     "output_type": "execute_result"
    }
   ],
   "source": [
    "find_replace"
   ]
  },
  {
   "cell_type": "code",
   "execution_count": null,
   "id": "5e4be10d-4ba6-4be5-917f-6a828563d126",
   "metadata": {},
   "outputs": [],
   "source": []
  },
  {
   "cell_type": "code",
   "execution_count": null,
   "id": "cca1576e-9ae6-4e49-9c67-74cc4dae3c6a",
   "metadata": {},
   "outputs": [],
   "source": []
  },
  {
   "cell_type": "code",
   "execution_count": null,
   "id": "d0da819f-ba9d-4ea4-acb8-f1bed8992be6",
   "metadata": {},
   "outputs": [],
   "source": []
  },
  {
   "cell_type": "markdown",
   "id": "58c2e83c-3adb-45fa-b497-1a24ac847c7f",
   "metadata": {},
   "source": [
    "Replace newcommands and environments:"
   ]
  },
  {
   "cell_type": "code",
   "execution_count": 15,
   "id": "d77ddd7e-7cf5-4b0c-a6a0-4c3d6806be1c",
   "metadata": {
    "tags": []
   },
   "outputs": [
    {
     "name": "stdout",
     "output_type": "stream",
     "text": [
      "args for: \\newcommand{\\bee}[1]{\\begin{equation}\\label{e:#1}}\n",
      "{1: 'lenseq'}\n",
      "args for: \\newcommand{\\beee}[2]{\\begin{equation}\\label{e:#1} #2}\n",
      "{1: 'lenseq2', 2: 'A(x)=5'}\n",
      "\n",
      "\\newcommand{\\be}{\\begin{equation}} gets commented\n",
      "\\newcommand{\\ee}{\\end{equation}} gets commented\n",
      "\\newcommand{\\bee}[1]{\\begin{equation}\\label{e:#1}} gets commented\n",
      "\\newcommand{\\eee}{\\end{equation}} gets commented\n",
      "\\newcommand{\\beee}[2]{\\begin{equation}\\label{e:#1} #2} gets commented\n",
      "\\newcommand{\\eeee}{\\end{equation}} gets commented\n"
     ]
    }
   ],
   "source": [
    "tex_doc_nc, error, warnings = preprocessing.replace_newcommands_and_newenvironments(tex_doc, \n",
    "                                                                          args_newcommands,\n",
    "                                                                          args_newenvironments,\n",
    "                                                                          verbose=True)"
   ]
  },
  {
   "cell_type": "code",
   "execution_count": 23,
   "id": "fa3e8ea8-53c0-4ce3-85ce-aaebf51bc300",
   "metadata": {
    "tags": []
   },
   "outputs": [],
   "source": [
    "soup = TexSoup.TexSoup(r''+tex_doc_nc, tolerance=0)"
   ]
  },
  {
   "cell_type": "code",
   "execution_count": 24,
   "id": "0ebb5707-4e89-4a14-99f3-bf5a8556aa41",
   "metadata": {
    "tags": []
   },
   "outputs": [
    {
     "data": {
      "text/plain": [
       "<module 'TexSoup.postprocess' from '/Users/jnaiman/TexSoup/TexSoup/postprocess.py'>"
      ]
     },
     "execution_count": 24,
     "metadata": {},
     "output_type": "execute_result"
    }
   ],
   "source": [
    "reload(TexSoup)\n",
    "import TexSoup.postprocess as postprocess\n",
    "reload(postprocess)"
   ]
  },
  {
   "cell_type": "code",
   "execution_count": 25,
   "id": "5219a965-d4ee-4b62-9d3e-1e6a675ca19e",
   "metadata": {
    "tags": []
   },
   "outputs": [],
   "source": [
    "soup_clean = postprocess.clean_slash_commands(soup)"
   ]
  },
  {
   "cell_type": "code",
   "execution_count": null,
   "id": "22a94c52-56a5-4a8f-8eb4-d25a7f3a3a3f",
   "metadata": {},
   "outputs": [],
   "source": []
  },
  {
   "cell_type": "code",
   "execution_count": null,
   "id": "2faf34c1-b0d3-4bdf-8e70-6f4e19d8ef45",
   "metadata": {},
   "outputs": [],
   "source": []
  },
  {
   "cell_type": "code",
   "execution_count": 19,
   "id": "2f7b979a-0f4d-4123-9468-0b24283f5ffa",
   "metadata": {},
   "outputs": [],
   "source": [
    "**HERE**"
   ]
  },
  {
   "cell_type": "code",
   "execution_count": 20,
   "id": "2916341b-0e97-4e82-9e01-649e064e5089",
   "metadata": {
    "tags": []
   },
   "outputs": [],
   "source": [
    "# for iss,s in enumerate(soup.all):\n",
    "#     print('----------- soup element =', iss, '---------------')\n",
    "#     print(type(s))\n",
    "#     print(type(s.expr))\n",
    "#     print(s)\n",
    "#     print('----------------')"
   ]
  },
  {
   "cell_type": "code",
   "execution_count": 21,
   "id": "470a9530-255d-4d9c-ae1d-3bd33f1ee781",
   "metadata": {
    "tags": []
   },
   "outputs": [],
   "source": [
    "# combine \\command, \\ as just \\command\\\n",
    "for iss,s in enumerate(soup.all):\n",
    "    if type(s.expr) == TexSoup.data.TexNamedEnv: # parts of the text\n",
    "        if 'begin' in s.expr.begin and 'document' in s.expr.begin:\n",
    "            for isss,ss in enumerate(s.all):\n",
    "                if str(ss) == '\\\\ ': # just a lone bracket\n",
    "                    if type(s.all[isss-1].expr) == TexSoup.data.TexCmd: # is a command, update it\n",
    "                        soup.all[iss].all[isss-1].name += '\\\\ ' # add \n",
    "                        soup.all[iss].all[isss].delete() # delete this node"
   ]
  },
  {
   "cell_type": "code",
   "execution_count": null,
   "id": "0afe4d76-3a86-42cd-9d20-1ae0367a644b",
   "metadata": {
    "tags": []
   },
   "outputs": [],
   "source": []
  },
  {
   "cell_type": "code",
   "execution_count": null,
   "id": "5cd06b74-6f98-4266-9cfa-638e26b9bdc5",
   "metadata": {},
   "outputs": [],
   "source": []
  },
  {
   "cell_type": "code",
   "execution_count": 26,
   "id": "39394b3e-b816-42f6-87a1-633d0a0eded8",
   "metadata": {
    "tags": []
   },
   "outputs": [
    {
     "name": "stdout",
     "output_type": "stream",
     "text": [
      "----------- soup element = 0 ---------------\n",
      "----------- soup element = 1 ---------------\n",
      "----------- soup element = 2 ---------------\n",
      "----------- soup element = 3 ---------------\n",
      "----------- soup element = 4 ---------------\n",
      "----------- soup element = 5 ---------------\n",
      "----------- soup element = 6 ---------------\n",
      "----------- soup element = 7 ---------------\n",
      "----------- soup element = 8 ---------------\n",
      "----------- soup element = 9 ---------------\n",
      "----------- soup element = 10 ---------------\n",
      "----------- soup element = 11 ---------------\n",
      "----------- soup element = 12 ---------------\n",
      "----------- soup element = 13 ---------------\n",
      "----------- soup element = 14 ---------------\n",
      "----------- soup element = 15 ---------------\n",
      "----------- soup element = 16 ---------------\n",
      "----------- soup element = 17 ---------------\n",
      "----------- soup element = 18 ---------------\n",
      "----------- soup element = 19 ---------------\n",
      "----------- soup element = 20 ---------------\n",
      "----------- soup element = 21 ---------------\n",
      "----------- soup element = 22 ---------------\n",
      "----------- sub-soup element = 0 ---------------\n",
      "<class 'TexSoup.data.TexText'>\n",
      "\n",
      "\n",
      "-----------------\n",
      "----------- sub-soup element = 1 ---------------\n",
      "<class 'TexSoup.data.TexText'>\n",
      "\n",
      "\n",
      "-----------------\n",
      "----------- sub-soup element = 2 ---------------\n",
      "<class 'TexSoup.data.TexCmd'>\n",
      "\\section{Waffles waffles waffles}\n",
      "-----------------\n",
      "----------- sub-soup element = 3 ---------------\n",
      "<class 'TexSoup.data.TexText'>\n",
      "\n",
      "\n",
      "-----------------\n",
      "----------- sub-soup element = 4 ---------------\n",
      "<class 'TexSoup.data.TexText'>\n",
      "\n",
      "\n",
      "-----------------\n",
      "----------- sub-soup element = 5 ---------------\n",
      "<class 'TexSoup.data.TexCmd'>\n",
      "\\subsection{Waffles are cooler than you}\n",
      "-----------------\n",
      "----------- sub-soup element = 6 ---------------\n",
      "<class 'TexSoup.data.TexText'>\n",
      "\n",
      "\n",
      "-----------------\n",
      "----------- sub-soup element = 7 ---------------\n",
      "<class 'TexSoup.data.TexText'>\n",
      "\n",
      "Waffles have significantly more pockets than you.  \n",
      "\n",
      "\n",
      "-----------------\n",
      "----------- sub-soup element = 8 ---------------\n",
      "<class 'TexSoup.data.TexDisplayMathEnv'>\n",
      "\\[\n",
      "P(W) > P(\\rm{you})\n",
      "\\]\n",
      "-----------------\n",
      "----------- sub-soup element = 9 ---------------\n",
      "<class 'TexSoup.data.TexText'>\n",
      "\n",
      "\n",
      "-----------------\n",
      "----------- sub-soup element = 10 ---------------\n",
      "<class 'TexSoup.data.TexText'>\n",
      "\n",
      "Ok, maybe you are at least as cool as waffles:\n",
      "\n",
      "\n",
      "-----------------\n",
      "----------- sub-soup element = 11 ---------------\n",
      "<class 'TexSoup.data.TexDisplayMathModeEnv'>\n",
      "$$\n",
      "C_{ool}(\\rm{you}) \\ge C_{ool}(W)\n",
      "$$\n",
      "-----------------\n",
      "----------- sub-soup element = 12 ---------------\n",
      "<class 'TexSoup.data.TexText'>\n",
      "\n",
      "\n",
      "-----------------\n",
      "----------- sub-soup element = 13 ---------------\n",
      "<class 'TexSoup.data.TexText'>\n",
      "\n",
      "Sometimes though, you might type things in silly ways \n",
      "-----------------\n",
      "----------- sub-soup element = 14 ---------------\n",
      "<class 'TexSoup.data.TexMathModeEnv'>\n",
      "$C_ {ool  } (\\rm{anybody}) >   0$\n",
      "-----------------\n",
      "----------- sub-soup element = 15 ---------------\n",
      "<class 'TexSoup.data.TexText'>\n",
      ".\n",
      "\n",
      "\n",
      "-----------------\n",
      "----------- sub-soup element = 16 ---------------\n",
      "<class 'TexSoup.data.TexNamedEnv'>\n",
      "\\begin{equation}\n",
      "C_{   ool} \\ne 0\n",
      "\\end{equation}\n",
      "-----------------\n",
      "----------- sub-soup element = 17 ---------------\n",
      "<class 'TexSoup.data.TexText'>\n",
      "\n",
      "\n",
      "-----------------\n",
      "----------- sub-soup element = 18 ---------------\n",
      "<class 'TexSoup.data.TexText'>\n",
      "\n",
      "Also, let's do a silly redefined an equation:\n",
      "\n",
      "-----------------\n",
      "----------- sub-soup element = 19 ---------------\n",
      "<class 'TexSoup.data.TexNamedEnv'>\n",
      "\\begin{equation}\n",
      "C = C_2 + 1\n",
      "\\end{equation}\n",
      "-----------------\n",
      "----------- sub-soup element = 20 ---------------\n",
      "<class 'TexSoup.data.TexText'>\n",
      "\n",
      "\n",
      "-----------------\n",
      "----------- sub-soup element = 21 ---------------\n",
      "<class 'TexSoup.data.TexText'>\n",
      "\n",
      "Also also, just one more time:\n",
      "\n",
      "-----------------\n",
      "----------- sub-soup element = 22 ---------------\n",
      "<class 'TexSoup.data.TexNamedEnv'>\n",
      "\\begin{equation}\n",
      "C = C_2 + 1\n",
      "\\end{equation}\n",
      "-----------------\n",
      "----------- sub-soup element = 23 ---------------\n",
      "<class 'TexSoup.data.TexText'>\n",
      "\n",
      "\n",
      "-----------------\n",
      "----------- sub-soup element = 24 ---------------\n",
      "<class 'TexSoup.data.TexText'>\n",
      "\n",
      "\n",
      "-----------------\n",
      "----------- sub-soup element = 25 ---------------\n",
      "<class 'TexSoup.data.TexText'>\n",
      "\n",
      "Sometimes I like to write with weird commands like Naiman \n",
      "-----------------\n",
      "----------- sub-soup element = 26 ---------------\n",
      "<class 'TexSoup.data.TexCmd'>\n",
      "\\etal\\ \n",
      "-----------------\n",
      "----------- sub-soup element = 27 ---------------\n",
      "<class 'TexSoup.data.TexText'>\n",
      "which can make it tricky to parse things.\n",
      "\n",
      "\n",
      "-----------------\n",
      "----------- sub-soup element = 28 ---------------\n",
      "<class 'TexSoup.data.TexNamedEnv'>\n",
      "\\begin{equation}\\label{e:lenseq}\n",
      "    A(\\xi) = \\frac12\\left(\\xi+\\frac1\\xi\\right),\n",
      "\\end{equation}\n",
      "-----------------\n",
      "----------- sub-soup element = 29 ---------------\n",
      "<class 'TexSoup.data.TexText'>\n",
      "\n",
      "\n",
      "-----------------\n",
      "----------- sub-soup element = 30 ---------------\n",
      "<class 'TexSoup.data.TexText'>\n",
      "\n",
      "\n",
      "-----------------\n",
      "----------- sub-soup element = 31 ---------------\n",
      "<class 'TexSoup.data.TexNamedEnv'>\n",
      "\\begin{equation}\\label{e:lenseq2} A(x)=5\\end{equation}\n",
      "-----------------\n",
      "----------- sub-soup element = 32 ---------------\n",
      "<class 'TexSoup.data.TexText'>\n",
      "\n",
      "\n",
      "-----------------\n",
      "----------- sub-soup element = 33 ---------------\n",
      "<class 'TexSoup.data.TexText'>\n",
      "\n",
      "Getting some refs in \n",
      "-----------------\n",
      "----------- sub-soup element = 34 ---------------\n",
      "<class 'TexSoup.data.TexCmd'>\n",
      "\\ref{lenseq}\n",
      "-----------------\n",
      "----------- sub-soup element = 35 ---------------\n",
      "<class 'TexSoup.data.TexText'>\n",
      " and \n",
      "-----------------\n",
      "----------- sub-soup element = 36 ---------------\n",
      "<class 'TexSoup.data.TexCmd'>\n",
      "\\ref{lenseq2}\n",
      "-----------------\n",
      "----------- sub-soup element = 37 ---------------\n",
      "<class 'TexSoup.data.TexText'>\n",
      ".\n",
      "\n",
      "\n",
      "\n",
      "-----------------\n",
      "----------- soup element = 23 ---------------\n"
     ]
    }
   ],
   "source": [
    "for iss,s in enumerate(soup_clean.all):\n",
    "    print('----------- soup element =', iss, '---------------')\n",
    "    if type(s.expr) == TexSoup.data.TexNamedEnv: # parts of the text\n",
    "        if 'begin' in s.expr.begin and 'document' in s.expr.begin:\n",
    "            for isss,ss in enumerate(s.all):\n",
    "                print('----------- sub-soup element =', isss, '---------------')\n",
    "                #print(type(ss))\n",
    "                print(type(ss.expr))\n",
    "                print(ss)\n",
    "                print('-----------------')\n",
    "                if str(ss).strip() == '\\\\': # \n",
    "                    import sys; sys.exit()\n",
    "        else:\n",
    "            print(' ******** not in document *********** ')"
   ]
  },
  {
   "cell_type": "code",
   "execution_count": null,
   "id": "e954336d-e31f-46b5-b5ed-4ce6322d0e56",
   "metadata": {
    "tags": []
   },
   "outputs": [],
   "source": [
    "s.all[isss-1].__str__()"
   ]
  },
  {
   "cell_type": "code",
   "execution_count": null,
   "id": "3d91b3df-82d1-425f-8284-cf9ca234a2ef",
   "metadata": {
    "tags": []
   },
   "outputs": [],
   "source": [
    "s.all[isss-1].name += '\\\\ '"
   ]
  },
  {
   "cell_type": "code",
   "execution_count": null,
   "id": "ece508c1-1d5c-42fd-b488-0590d77625ce",
   "metadata": {
    "tags": []
   },
   "outputs": [],
   "source": [
    "s.all[isss-1]"
   ]
  },
  {
   "cell_type": "code",
   "execution_count": null,
   "id": "56f4cd2b-ce2c-4126-af87-77c23c6589b8",
   "metadata": {
    "tags": []
   },
   "outputs": [],
   "source": [
    "s.all[isss].delete()"
   ]
  },
  {
   "cell_type": "code",
   "execution_count": null,
   "id": "6e17cf87-5243-4dad-b081-71561dc2f2c2",
   "metadata": {
    "tags": []
   },
   "outputs": [],
   "source": [
    "s.all[isss-1]"
   ]
  },
  {
   "cell_type": "code",
   "execution_count": null,
   "id": "ab1268a0-c7a5-46da-b96c-5074520fe457",
   "metadata": {
    "tags": []
   },
   "outputs": [],
   "source": [
    "s.all[isss]"
   ]
  },
  {
   "cell_type": "code",
   "execution_count": null,
   "id": "4965547b-3b23-4e66-a909-8877758ccc15",
   "metadata": {},
   "outputs": [],
   "source": []
  },
  {
   "cell_type": "code",
   "execution_count": null,
   "id": "d5226cee-15e7-46ce-9a9c-7c141ab36456",
   "metadata": {
    "tags": []
   },
   "outputs": [],
   "source": [
    "# try a thing\n",
    "from TexSoup.category import categorize\n",
    "from TexSoup.tokens import tokenize\n",
    "from TexSoup.utils import Token, Buffer, MixedBuffer, CharToLineOffset\n",
    "\n",
    "from TexSoup.reader import read_args, SIGNATURES,MODE_NON_MATH\n"
   ]
  },
  {
   "cell_type": "code",
   "execution_count": null,
   "id": "ca058e9a-cf0f-4e35-b306-93ad4a12fd94",
   "metadata": {
    "tags": []
   },
   "outputs": [],
   "source": [
    "buf = Buffer(tokenize(categorize('\\\\sect  \\t    \\n\\t{wallawalla}')))"
   ]
  },
  {
   "cell_type": "code",
   "execution_count": null,
   "id": "143fd06c-a755-4294-84da-fb3f5fae4b89",
   "metadata": {
    "tags": []
   },
   "outputs": [],
   "source": [
    "name = next(buf)"
   ]
  },
  {
   "cell_type": "code",
   "execution_count": null,
   "id": "951cb056-8b33-45ab-9925-14f1a40aba1b",
   "metadata": {
    "tags": []
   },
   "outputs": [],
   "source": [
    "name"
   ]
  },
  {
   "cell_type": "code",
   "execution_count": null,
   "id": "20e83ada-4cba-47b2-ac69-18f38fd65b01",
   "metadata": {
    "tags": []
   },
   "outputs": [],
   "source": [
    "token = Token('', buf.position)"
   ]
  },
  {
   "cell_type": "code",
   "execution_count": null,
   "id": "6fb673be-224c-46dc-b007-56561d2478cd",
   "metadata": {
    "tags": []
   },
   "outputs": [],
   "source": [
    "token"
   ]
  },
  {
   "cell_type": "code",
   "execution_count": null,
   "id": "eb5cc657-3399-498a-b7e0-46c780b6e987",
   "metadata": {
    "tags": []
   },
   "outputs": [],
   "source": [
    "n_required_args=-1\n",
    "n_optional_args=-1\n",
    "tolerance = 0"
   ]
  },
  {
   "cell_type": "code",
   "execution_count": null,
   "id": "cb589fad-e69a-4e6a-be08-618b62f54898",
   "metadata": {
    "tags": []
   },
   "outputs": [],
   "source": [
    "if n_required_args < 0 and n_optional_args < 0:\n",
    "    n_required_args, n_optional_args = SIGNATURES.get(name, (-1, -1))"
   ]
  },
  {
   "cell_type": "code",
   "execution_count": null,
   "id": "f7d2bbad-87d7-4e38-813e-847f1154a695",
   "metadata": {
    "tags": []
   },
   "outputs": [],
   "source": [
    "n_required_args, n_optional_args"
   ]
  },
  {
   "cell_type": "code",
   "execution_count": null,
   "id": "2e34979d-e7a1-4215-afe3-799423547ccb",
   "metadata": {
    "tags": []
   },
   "outputs": [],
   "source": [
    "args = read_args(buf, n_required_args, n_optional_args,\n",
    "                 tolerance=tolerance, mode=MODE_NON_MATH)\n"
   ]
  },
  {
   "cell_type": "code",
   "execution_count": null,
   "id": "3bfd61e2-ec9a-4f91-a30f-a7324b029c40",
   "metadata": {
    "tags": []
   },
   "outputs": [],
   "source": [
    "args"
   ]
  },
  {
   "cell_type": "code",
   "execution_count": null,
   "id": "289833cd-383d-4a9b-b2c1-e075e4a7760f",
   "metadata": {
    "tags": []
   },
   "outputs": [],
   "source": [
    "cmd = '\\\\etal\\\\'"
   ]
  },
  {
   "cell_type": "code",
   "execution_count": null,
   "id": "88988b08-fc77-454f-953e-658f81851978",
   "metadata": {
    "tags": []
   },
   "outputs": [],
   "source": [
    "reload(TexSoup)"
   ]
  },
  {
   "cell_type": "code",
   "execution_count": null,
   "id": "8a3c56d0-5ebb-4ac9-8f6f-3a09f3ad40b4",
   "metadata": {
    "tags": []
   },
   "outputs": [],
   "source": [
    "buf = tokenize(categorize(r''+cmd))"
   ]
  },
  {
   "cell_type": "code",
   "execution_count": null,
   "id": "e479ca9b-1da4-4054-a166-27b273d4452c",
   "metadata": {
    "tags": []
   },
   "outputs": [],
   "source": [
    "buf"
   ]
  },
  {
   "cell_type": "code",
   "execution_count": null,
   "id": "6d93183a-72dc-423a-8cdb-12406dfb55dc",
   "metadata": {
    "tags": []
   },
   "outputs": [],
   "source": [
    "def read_item_from(string, skip=2):\n",
    "    buf = tokenize(categorize(string))\n",
    "    _ = buf.forward(skip)\n",
    "    return TexSoup.reader.read_item(buf)"
   ]
  },
  {
   "cell_type": "code",
   "execution_count": null,
   "id": "ec5d0a35-b4f9-434a-b53d-19910573f591",
   "metadata": {
    "tags": []
   },
   "outputs": [],
   "source": [
    "read_item_from(r'hi')"
   ]
  },
  {
   "cell_type": "code",
   "execution_count": null,
   "id": "de05d0fe-d7b2-433e-8596-06d3b499b214",
   "metadata": {
    "tags": []
   },
   "outputs": [],
   "source": [
    "read_item_from(cmd)"
   ]
  },
  {
   "cell_type": "code",
   "execution_count": null,
   "id": "a3749971-1b4e-4bdf-bb65-6154a5937ba5",
   "metadata": {},
   "outputs": [],
   "source": []
  }
 ],
 "metadata": {
  "kernelspec": {
   "display_name": "Python 3 (ipykernel)",
   "language": "python",
   "name": "python3"
  },
  "language_info": {
   "codemirror_mode": {
    "name": "ipython",
    "version": 3
   },
   "file_extension": ".py",
   "mimetype": "text/x-python",
   "name": "python",
   "nbconvert_exporter": "python",
   "pygments_lexer": "ipython3",
   "version": "3.9.16"
  }
 },
 "nbformat": 4,
 "nbformat_minor": 5
}
