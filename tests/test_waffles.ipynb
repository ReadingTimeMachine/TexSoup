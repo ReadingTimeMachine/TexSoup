{
 "cells": [
  {
   "cell_type": "markdown",
   "id": "6e25dd99-592e-49cd-8707-c7b0d9d4e655",
   "metadata": {},
   "source": [
    "Less of a unit test, more an exploration of waffles."
   ]
  },
  {
   "cell_type": "code",
   "execution_count": 45,
   "id": "f22d445b-d4a2-4690-85d3-469bb6ea24ad",
   "metadata": {
    "tags": []
   },
   "outputs": [],
   "source": [
    "filename = 'samples/waffle.tex'"
   ]
  },
  {
   "cell_type": "code",
   "execution_count": 50,
   "id": "d5495772-d60c-4964-bb22-110e3c95d4d9",
   "metadata": {
    "tags": []
   },
   "outputs": [],
   "source": [
    "import TexSoup\n",
    "import re"
   ]
  },
  {
   "cell_type": "code",
   "execution_count": 47,
   "id": "9df34cf2-b722-46c7-ad69-8d71e2133028",
   "metadata": {
    "tags": []
   },
   "outputs": [],
   "source": [
    "with open(filename,'r') as f:\n",
    "    tex_doc = f.read()"
   ]
  },
  {
   "cell_type": "markdown",
   "id": "db883bf6-a509-49f5-8d73-4687286f6621",
   "metadata": {},
   "source": [
    "Sometimes there are weird errors like spaces in begins/ends -- fix these first:"
   ]
  },
  {
   "cell_type": "code",
   "execution_count": 49,
   "id": "69f38459-d557-48a6-ba6e-bfb17fcc15fa",
   "metadata": {
    "tags": []
   },
   "outputs": [],
   "source": [
    "search_weirdos_begin = r'\\\\begin(\\s*){(\\s*)[A-Za-z]*(\\s*)}' # \\begin {equation} or \\end { document}, etc\n",
    "search_weirdos_end = r'\\\\end(\\s*){(\\s*)[A-Za-z]*(\\s*)}' # same for end"
   ]
  },
  {
   "cell_type": "code",
   "execution_count": 66,
   "id": "ee589644-008e-46a8-8989-f6f267e7d51d",
   "metadata": {
    "tags": []
   },
   "outputs": [],
   "source": [
    "ind = 0\n",
    "tex_doc_out = tex_doc\n",
    "while ind < len(tex_doc):\n",
    "    if re.search(search_weirdos_begin, tex_doc[ind:]):\n",
    "        istart,iend = re.search(search_weirdos_begin, tex_doc[ind:]).span()\n",
    "        text = tex_doc[ind:][istart:iend]\n",
    "        text_replace = \"\".join(text.split())\n",
    "        #print(text, text_replace)\n",
    "        tex_doc_out = tex_doc.replace(text,text_replace)\n",
    "        ind += iend\n",
    "    else:\n",
    "        ind += len(tex_doc[ind:])\n",
    "        \n",
    "tex_doc = tex_doc_out\n",
    "ind = 0\n",
    "while ind < len(tex_doc):\n",
    "    if re.search(search_weirdos_end, tex_doc[ind:]):\n",
    "        istart,iend = re.search(search_weirdos_end, tex_doc[ind:]).span()\n",
    "        text = tex_doc[ind:][istart:iend]\n",
    "        text_replace = \"\".join(text.split())\n",
    "        tex_doc_out = tex_doc.replace(text,text_replace)\n",
    "        ind += iend\n",
    "    else:\n",
    "        ind += len(tex_doc[ind:])\n",
    "tex_doc = tex_doc_out"
   ]
  },
  {
   "cell_type": "code",
   "execution_count": 67,
   "id": "e19ab2b2-db7d-4ab8-b350-08972fd4d1b0",
   "metadata": {
    "tags": []
   },
   "outputs": [
    {
     "name": "stdout",
     "output_type": "stream",
     "text": [
      "\\documentclass[a4paper]{article}\n",
      "\n",
      "\\begin{document}\n",
      "\n",
      "\\section{Waffles waffles waffles}\n",
      "\n",
      "\\subsection{Waffles are cooler than you}\n",
      "\n",
      "Waffles have significantly more pockets than you.  \n",
      "\n",
      "\\[\n",
      "P(W) > P(\\rm{you})\n",
      "\\]\n",
      "\n",
      "Ok, maybe you are at least as cool as waffles:\n",
      "\n",
      "$$\n",
      "C_{ool}(\\rm{you}) \\ge C_{ool}(W)\n",
      "$$\n",
      "\n",
      "Sometimes though, you might type things in silly ways $C_ {ool  } (\\rm{anybody}) >   0$.\n",
      "\n",
      "\\begin{equation}\n",
      "C_{   ool} \\ne 0\n",
      "\\end{equation}\n",
      "\n",
      "\\end{document}\n",
      "\n"
     ]
    }
   ],
   "source": [
    "print(tex_doc)"
   ]
  },
  {
   "cell_type": "code",
   "execution_count": 57,
   "id": "07900742-394c-48a1-b0bf-ef3ac685b74f",
   "metadata": {
    "tags": []
   },
   "outputs": [
    {
     "data": {
      "text/plain": [
       "'\\\\begin{document}'"
      ]
     },
     "execution_count": 57,
     "metadata": {},
     "output_type": "execute_result"
    }
   ],
   "source": [
    "\"\".join('\\\\begin{\\n document }'.split())"
   ]
  },
  {
   "cell_type": "code",
   "execution_count": 48,
   "id": "fa3e8ea8-53c0-4ce3-85ce-aaebf51bc300",
   "metadata": {
    "tags": []
   },
   "outputs": [],
   "source": [
    "soup = TexSoup.TexSoup(r''+tex_doc, tolerance=0)"
   ]
  },
  {
   "cell_type": "code",
   "execution_count": null,
   "id": "da20bbe3-0190-4bd9-9129-f6c5c5a3ad1b",
   "metadata": {
    "tags": []
   },
   "outputs": [],
   "source": [
    "print(tex_doc)"
   ]
  },
  {
   "cell_type": "code",
   "execution_count": null,
   "id": "57bb2a7d-9b5a-4afd-9554-b96b1fa728cd",
   "metadata": {
    "tags": []
   },
   "outputs": [],
   "source": [
    "print(soup)"
   ]
  },
  {
   "cell_type": "code",
   "execution_count": 32,
   "id": "960c5318-848d-49aa-9b74-16312f4c1d46",
   "metadata": {
    "tags": []
   },
   "outputs": [
    {
     "data": {
      "text/plain": [
       "5"
      ]
     },
     "execution_count": 32,
     "metadata": {},
     "output_type": "execute_result"
    }
   ],
   "source": [
    "len(soup.all)"
   ]
  },
  {
   "cell_type": "code",
   "execution_count": 34,
   "id": "2916341b-0e97-4e82-9e01-649e064e5089",
   "metadata": {
    "tags": []
   },
   "outputs": [
    {
     "name": "stdout",
     "output_type": "stream",
     "text": [
      "----------- soup element = 0 ---------------\n",
      "<class 'TexSoup.data.TexNode'>\n",
      "<class 'TexSoup.data.TexCmd'>\n",
      "\\documentclass[a4paper]{article}\n",
      "----------------\n",
      "----------- soup element = 1 ---------------\n",
      "<class 'TexSoup.data.TexNode'>\n",
      "<class 'TexSoup.data.TexText'>\n",
      "\n",
      "\n",
      "----------------\n",
      "----------- soup element = 2 ---------------\n",
      "<class 'TexSoup.data.TexNode'>\n",
      "<class 'TexSoup.data.TexText'>\n",
      "\n",
      "\n",
      "----------------\n",
      "----------- soup element = 3 ---------------\n",
      "<class 'TexSoup.data.TexNode'>\n",
      "<class 'TexSoup.data.TexNamedEnv'>\n",
      "\\begin{document}\n",
      "\n",
      "\\section{Waffles waffles waffles}\n",
      "\n",
      "\\subsection{Waffles are cooler than you}\n",
      "\n",
      "Waffles have significantly more pockets than you.  \n",
      "\n",
      "\\[\n",
      "P(W) > P(\\rm{you})\n",
      "\\]\n",
      "\n",
      "Ok, maybe you are at least as cool as waffles:\n",
      "\n",
      "$$\n",
      "C_{ool}(\\rm{you}) \\ge C_{ool}(W)\n",
      "$$\n",
      "\n",
      "Sometimes though, you might type things in silly ways $C_ {ool  } (\\rm{anybody}) >   0$.\n",
      "\n",
      "\\begin{equation}\n",
      "C_{   ool} \\ne 0\n",
      "\\end{equation}\n",
      "\n",
      "\\end{document}\n",
      "----------------\n",
      "----------- soup element = 4 ---------------\n",
      "<class 'TexSoup.data.TexNode'>\n",
      "<class 'TexSoup.data.TexText'>\n",
      "\n",
      "\n",
      "----------------\n"
     ]
    }
   ],
   "source": [
    "for iss,s in enumerate(soup.all):\n",
    "    print('----------- soup element =', iss, '---------------')\n",
    "    print(type(s))\n",
    "    print(type(s.expr))\n",
    "    print(s)\n",
    "    print('----------------')"
   ]
  },
  {
   "cell_type": "code",
   "execution_count": 40,
   "id": "39394b3e-b816-42f6-87a1-633d0a0eded8",
   "metadata": {
    "tags": []
   },
   "outputs": [
    {
     "name": "stdout",
     "output_type": "stream",
     "text": [
      "----------- soup element = 0 ---------------\n",
      "----------- soup element = 1 ---------------\n",
      "----------- soup element = 2 ---------------\n",
      "----------- soup element = 3 ---------------\n",
      "----------- sub-soup element = 0 ---------------\n",
      "<class 'TexSoup.data.TexText'>\n",
      "\n",
      "\n",
      "-----------------\n",
      "----------- sub-soup element = 1 ---------------\n",
      "<class 'TexSoup.data.TexText'>\n",
      "\n",
      "\n",
      "-----------------\n",
      "----------- sub-soup element = 2 ---------------\n",
      "<class 'TexSoup.data.TexCmd'>\n",
      "\\section{Waffles waffles waffles}\n",
      "-----------------\n",
      "----------- sub-soup element = 3 ---------------\n",
      "<class 'TexSoup.data.TexText'>\n",
      "\n",
      "\n",
      "-----------------\n",
      "----------- sub-soup element = 4 ---------------\n",
      "<class 'TexSoup.data.TexText'>\n",
      "\n",
      "\n",
      "-----------------\n",
      "----------- sub-soup element = 5 ---------------\n",
      "<class 'TexSoup.data.TexCmd'>\n",
      "\\subsection{Waffles are cooler than you}\n",
      "-----------------\n",
      "----------- sub-soup element = 6 ---------------\n",
      "<class 'TexSoup.data.TexText'>\n",
      "\n",
      "\n",
      "-----------------\n",
      "----------- sub-soup element = 7 ---------------\n",
      "<class 'TexSoup.data.TexText'>\n",
      "\n",
      "Waffles have significantly more pockets than you.  \n",
      "\n",
      "\n",
      "-----------------\n",
      "----------- sub-soup element = 8 ---------------\n",
      "<class 'TexSoup.data.TexDisplayMathEnv'>\n",
      "\\[\n",
      "P(W) > P(\\rm{you})\n",
      "\\]\n",
      "-----------------\n",
      "----------- sub-soup element = 9 ---------------\n",
      "<class 'TexSoup.data.TexText'>\n",
      "\n",
      "\n",
      "-----------------\n",
      "----------- sub-soup element = 10 ---------------\n",
      "<class 'TexSoup.data.TexText'>\n",
      "\n",
      "Ok, maybe you are at least as cool as waffles:\n",
      "\n",
      "\n",
      "-----------------\n",
      "----------- sub-soup element = 11 ---------------\n",
      "<class 'TexSoup.data.TexDisplayMathModeEnv'>\n",
      "$$\n",
      "C_{ool}(\\rm{you}) \\ge C_{ool}(W)\n",
      "$$\n",
      "-----------------\n",
      "----------- sub-soup element = 12 ---------------\n",
      "<class 'TexSoup.data.TexText'>\n",
      "\n",
      "\n",
      "-----------------\n",
      "----------- sub-soup element = 13 ---------------\n",
      "<class 'TexSoup.data.TexText'>\n",
      "\n",
      "Sometimes though, you might type things in silly ways \n",
      "-----------------\n",
      "----------- sub-soup element = 14 ---------------\n",
      "<class 'TexSoup.data.TexMathModeEnv'>\n",
      "$C_ {ool  } (\\rm{anybody}) >   0$\n",
      "-----------------\n",
      "----------- sub-soup element = 15 ---------------\n",
      "<class 'TexSoup.data.TexText'>\n",
      ".\n",
      "\n",
      "\n",
      "-----------------\n",
      "----------- sub-soup element = 16 ---------------\n",
      "<class 'TexSoup.data.TexNamedEnv'>\n",
      "\\begin{equation}\n",
      "C_{   ool} \\ne 0\n",
      "\\end{equation}\n",
      "-----------------\n",
      "----------- sub-soup element = 17 ---------------\n",
      "<class 'TexSoup.data.TexText'>\n",
      "\n",
      "\n",
      "-----------------\n",
      "----------- sub-soup element = 18 ---------------\n",
      "<class 'TexSoup.data.TexText'>\n",
      "\n",
      "\n",
      "-----------------\n",
      "----------- soup element = 4 ---------------\n"
     ]
    }
   ],
   "source": [
    "for iss,s in enumerate(soup.all):\n",
    "    print('----------- soup element =', iss, '---------------')\n",
    "    if type(s.expr) == TexSoup.data.TexNamedEnv: # parts of the text\n",
    "        if 'begin' in s.expr.begin and 'document' in s.expr.begin:\n",
    "            for isss,ss in enumerate(s.all):\n",
    "                print('----------- sub-soup element =', isss, '---------------')\n",
    "                #print(type(ss))\n",
    "                print(type(ss.expr))\n",
    "                print(ss)\n",
    "                print('-----------------')\n",
    "        else:\n",
    "            print(' ******** not in document *********** ')"
   ]
  },
  {
   "cell_type": "code",
   "execution_count": null,
   "id": "d5226cee-15e7-46ce-9a9c-7c141ab36456",
   "metadata": {},
   "outputs": [],
   "source": []
  },
  {
   "cell_type": "code",
   "execution_count": null,
   "id": "ca058e9a-cf0f-4e35-b306-93ad4a12fd94",
   "metadata": {},
   "outputs": [],
   "source": []
  }
 ],
 "metadata": {
  "kernelspec": {
   "display_name": "Python 3 (ipykernel)",
   "language": "python",
   "name": "python3"
  },
  "language_info": {
   "codemirror_mode": {
    "name": "ipython",
    "version": 3
   },
   "file_extension": ".py",
   "mimetype": "text/x-python",
   "name": "python",
   "nbconvert_exporter": "python",
   "pygments_lexer": "ipython3",
   "version": "3.9.16"
  }
 },
 "nbformat": 4,
 "nbformat_minor": 5
}
