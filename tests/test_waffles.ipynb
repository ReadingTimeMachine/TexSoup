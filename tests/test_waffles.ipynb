{
 "cells": [
  {
   "cell_type": "markdown",
   "id": "6e25dd99-592e-49cd-8707-c7b0d9d4e655",
   "metadata": {},
   "source": [
    "Less of a unit test, more an exploration of waffles."
   ]
  },
  {
   "cell_type": "code",
   "execution_count": 735,
   "id": "f22d445b-d4a2-4690-85d3-469bb6ea24ad",
   "metadata": {
    "tags": []
   },
   "outputs": [],
   "source": [
    "filename = 'samples/waffle.tex'"
   ]
  },
  {
   "cell_type": "code",
   "execution_count": 736,
   "id": "d5495772-d60c-4964-bb22-110e3c95d4d9",
   "metadata": {
    "tags": []
   },
   "outputs": [],
   "source": [
    "# debug\n",
    "from importlib import reload\n",
    "reload(TexSoup)\n",
    "\n",
    "import TexSoup\n",
    "import re\n",
    "import numpy as np"
   ]
  },
  {
   "cell_type": "code",
   "execution_count": 737,
   "id": "9df34cf2-b722-46c7-ad69-8d71e2133028",
   "metadata": {
    "tags": []
   },
   "outputs": [],
   "source": [
    "with open(filename,'r') as f:\n",
    "    tex_doc = f.read()"
   ]
  },
  {
   "cell_type": "markdown",
   "id": "db883bf6-a509-49f5-8d73-4687286f6621",
   "metadata": {},
   "source": [
    "Sometimes there are weird errors like spaces in begins/ends -- fix these first:"
   ]
  },
  {
   "cell_type": "code",
   "execution_count": 738,
   "id": "5c5ddcfe-9b80-42ec-9982-4cb38dd5005f",
   "metadata": {
    "tags": []
   },
   "outputs": [
    {
     "data": {
      "text/plain": [
       "<module 'TexSoup.preprocessing' from '/Users/jnaiman/TexSoup/TexSoup/preprocessing.py'>"
      ]
     },
     "execution_count": 738,
     "metadata": {},
     "output_type": "execute_result"
    }
   ],
   "source": [
    "from TexSoup import preprocessing\n",
    "reload(preprocessing)"
   ]
  },
  {
   "cell_type": "code",
   "execution_count": 739,
   "id": "afc92ee9-eabb-4946-bd7d-29ca01e7ded3",
   "metadata": {
    "tags": []
   },
   "outputs": [],
   "source": [
    "tex_doc = preprocessing.process_begin_end(tex_doc)"
   ]
  },
  {
   "cell_type": "code",
   "execution_count": 740,
   "id": "14c27eab-aa8a-4e86-8706-2c8fe77523ad",
   "metadata": {
    "tags": []
   },
   "outputs": [],
   "source": [
    "newcommands, newenvironments = preprocessing.get_newcommands_and_newenvs(tex_doc,\n",
    "                                                                         verbose=True)"
   ]
  },
  {
   "cell_type": "code",
   "execution_count": 741,
   "id": "c039509e-0392-4598-9df5-96821c93ddd6",
   "metadata": {
    "tags": []
   },
   "outputs": [
    {
     "data": {
      "text/plain": [
       "[('\\\\be', '\\\\newcommand{\\\\be}{\\\\begin{equation}}', 34, 68),\n",
       " ('\\\\ee', '\\\\newcommand{\\\\ee}{\\\\end{equation}}', 69, 101),\n",
       " ('\\\\bee', '\\\\newcommand{\\\\bee}[1]{\\\\begin{equation}\\\\label{e:#1}}', 103, 153),\n",
       " ('\\\\eee', '\\\\newcommand{\\\\eee}{\\\\end{equation}}', 154, 187),\n",
       " ('\\\\beee',\n",
       "  '\\\\newcommand{\\\\beee}[2]{\\\\begin{equation}\\\\label{e:#1} #2}',\n",
       "  189,\n",
       "  243),\n",
       " ('\\\\eeee', '\\\\newcommand{\\\\eeee}{\\\\end{equation}}', 244, 278),\n",
       " ('\\\\etal ', '\\\\def \\\\etal {{\\\\em et al.}}', 281, 306)]"
      ]
     },
     "execution_count": 741,
     "metadata": {},
     "output_type": "execute_result"
    }
   ],
   "source": [
    "newcommands"
   ]
  },
  {
   "cell_type": "code",
   "execution_count": 742,
   "id": "0eb64cba-475e-4cc4-8acd-e1f1fb7470a7",
   "metadata": {
    "tags": []
   },
   "outputs": [
    {
     "data": {
      "text/plain": [
       "[]"
      ]
     },
     "execution_count": 742,
     "metadata": {},
     "output_type": "execute_result"
    }
   ],
   "source": [
    "newenvironments"
   ]
  },
  {
   "cell_type": "code",
   "execution_count": 743,
   "id": "b7253756-cf5a-4a93-995d-48bc0a71acf2",
   "metadata": {
    "tags": []
   },
   "outputs": [
    {
     "data": {
      "text/plain": [
       "<module 'TexSoup.preprocessing' from '/Users/jnaiman/TexSoup/TexSoup/preprocessing.py'>"
      ]
     },
     "execution_count": 743,
     "metadata": {},
     "output_type": "execute_result"
    }
   ],
   "source": [
    "reload(preprocessing)"
   ]
  },
  {
   "cell_type": "code",
   "execution_count": 744,
   "id": "d5da4446-c164-4105-9474-07d6c57f8d49",
   "metadata": {
    "tags": []
   },
   "outputs": [],
   "source": [
    "args_newcommands = preprocessing.find_args_newcommands(newcommands,error_out=True, verbose=True)"
   ]
  },
  {
   "cell_type": "code",
   "execution_count": 745,
   "id": "442393ed-4e35-411e-bae2-0dd6c2521c81",
   "metadata": {
    "tags": []
   },
   "outputs": [
    {
     "data": {
      "text/plain": [
       "[['\\\\be', '\\\\newcommand{\\\\be}{\\\\begin{equation}}', 34, 68, 0],\n",
       " ['\\\\ee', '\\\\newcommand{\\\\ee}{\\\\end{equation}}', 69, 101, 0],\n",
       " ['\\\\bee',\n",
       "  '\\\\newcommand{\\\\bee}[1]{\\\\begin{equation}\\\\label{e:#1}}',\n",
       "  103,\n",
       "  153,\n",
       "  1],\n",
       " ['\\\\eee', '\\\\newcommand{\\\\eee}{\\\\end{equation}}', 154, 187, 0],\n",
       " ['\\\\beee',\n",
       "  '\\\\newcommand{\\\\beee}[2]{\\\\begin{equation}\\\\label{e:#1} #2}',\n",
       "  189,\n",
       "  243,\n",
       "  2],\n",
       " ['\\\\eeee', '\\\\newcommand{\\\\eeee}{\\\\end{equation}}', 244, 278, 0],\n",
       " ['\\\\etal ', '\\\\def \\\\etal {{\\\\em et al.}}', 281, 306, 0]]"
      ]
     },
     "execution_count": 745,
     "metadata": {},
     "output_type": "execute_result"
    }
   ],
   "source": [
    "args_newcommands"
   ]
  },
  {
   "cell_type": "code",
   "execution_count": 746,
   "id": "8286ed78-d464-45c1-a109-ec07d68d477d",
   "metadata": {
    "tags": []
   },
   "outputs": [],
   "source": [
    "args_newenvironments = preprocessing.find_args_newenvironments(newenvironments,\n",
    "                                                               error_out=True, verbose=True)"
   ]
  },
  {
   "cell_type": "code",
   "execution_count": 747,
   "id": "d16d5526-15cd-4239-9f09-c2da2a6deba2",
   "metadata": {
    "tags": []
   },
   "outputs": [
    {
     "data": {
      "text/plain": [
       "[]"
      ]
     },
     "execution_count": 747,
     "metadata": {},
     "output_type": "execute_result"
    }
   ],
   "source": [
    "args_newenvironments"
   ]
  },
  {
   "cell_type": "code",
   "execution_count": 748,
   "id": "11273be2-fc93-4be0-a8af-90639ac532c9",
   "metadata": {
    "tags": []
   },
   "outputs": [],
   "source": [
    "# go through and find if there is begin/end in there\n",
    "# note: at this point all beginnings/endings should be fixed\n",
    "find_replace = []\n",
    "comments = []\n",
    "for ic,nc in enumerate(args_newcommands):\n",
    "    if nc == 'error':\n",
    "        continue\n",
    "    n,fn,i1,i2,nArgs = nc\n",
    "    if nArgs == 0: # no arguements\n",
    "        if '\\\\begin' in fn and not ('\\\\end' in fn):\n",
    "            i = fn.index(n+'}') + len(n+'}')\n",
    "            ind1,ind2,err = spc(fn[i:],\n",
    "                            function='',dopen='{',\n",
    "                            dclose='}',\n",
    "                           error_out=False)\n",
    "            if not err:\n",
    "                cmd = fn[i:][ind1+1:ind2-1]\n",
    "                find_replace.append((n,cmd,nArgs))\n",
    "            comments.append(fn)\n",
    "\n",
    "        elif '\\\\end' in fn and not ('\\\\begin' in fn):\n",
    "            i = fn.index(n+'}') + len(n+'}')\n",
    "            ind1,ind2,err = spc(fn[i:],\n",
    "                            function='',dopen='{',\n",
    "                            dclose='}',\n",
    "                           error_out=False)\n",
    "            if not err:\n",
    "                cmd = fn[i:][ind1+1:ind2-1]\n",
    "                find_replace.append((n,cmd,nArgs))\n",
    "            comments.append(fn)\n",
    "        elif '\\\\def' in fn: # def statement\n",
    "            pass\n",
    "        else: # have both\n",
    "            print('have both')\n",
    "            import sys; sys.exit()\n",
    "    else:\n",
    "        find_replace.append((n,fn,nArgs))\n",
    "        comments.append(fn)"
   ]
  },
  {
   "cell_type": "code",
   "execution_count": 749,
   "id": "e15e91b4-e5e1-4efc-8448-ab901cb437e0",
   "metadata": {
    "tags": []
   },
   "outputs": [
    {
     "data": {
      "text/plain": [
       "[('\\\\be', '\\\\begin{equation}', 0),\n",
       " ('\\\\ee', '\\\\end{equation}', 0),\n",
       " ('\\\\bee', '\\\\newcommand{\\\\bee}[1]{\\\\begin{equation}\\\\label{e:#1}}', 1),\n",
       " ('\\\\eee', '\\\\end{equation}', 0),\n",
       " ('\\\\beee', '\\\\newcommand{\\\\beee}[2]{\\\\begin{equation}\\\\label{e:#1} #2}', 2),\n",
       " ('\\\\eeee', '\\\\end{equation}', 0)]"
      ]
     },
     "execution_count": 749,
     "metadata": {},
     "output_type": "execute_result"
    }
   ],
   "source": [
    "find_replace"
   ]
  },
  {
   "cell_type": "code",
   "execution_count": 750,
   "id": "4a27020e-e180-4553-b9ab-19870db567e6",
   "metadata": {
    "tags": []
   },
   "outputs": [
    {
     "data": {
      "text/plain": [
       "['\\\\newcommand{\\\\be}{\\\\begin{equation}}',\n",
       " '\\\\newcommand{\\\\ee}{\\\\end{equation}}',\n",
       " '\\\\newcommand{\\\\bee}[1]{\\\\begin{equation}\\\\label{e:#1}}',\n",
       " '\\\\newcommand{\\\\eee}{\\\\end{equation}}',\n",
       " '\\\\newcommand{\\\\beee}[2]{\\\\begin{equation}\\\\label{e:#1} #2}',\n",
       " '\\\\newcommand{\\\\eeee}{\\\\end{equation}}']"
      ]
     },
     "execution_count": 750,
     "metadata": {},
     "output_type": "execute_result"
    }
   ],
   "source": [
    "comments"
   ]
  },
  {
   "cell_type": "code",
   "execution_count": 751,
   "id": "8a9d9759-8411-4034-8034-45bbe2901264",
   "metadata": {
    "tags": []
   },
   "outputs": [],
   "source": [
    "#print(tex_doc)"
   ]
  },
  {
   "cell_type": "code",
   "execution_count": 815,
   "id": "bf6ca3aa-45cf-4089-87a9-3500d582c750",
   "metadata": {
    "tags": []
   },
   "outputs": [
    {
     "name": "stdout",
     "output_type": "stream",
     "text": [
      "{1: 'lenseq'}\n",
      "{1: 'lenseq2', 2: 'A(x)=5'}\n"
     ]
    }
   ],
   "source": [
    "text = tex_doc\n",
    "verbose = True\n",
    "\n",
    "icount = 0\n",
    "# find/replace -- require a whitespace after\n",
    "for instr, outstr,nArgs in find_replace:\n",
    "    if nArgs == 0: \n",
    "        ind = 0\n",
    "        text_out = []\n",
    "        search_cmd = re.escape(instr) + '(\\\\s{1,})'\n",
    "\n",
    "        while ind < len(text):\n",
    "            if re.search(search_cmd, text[ind:]):\n",
    "                istart,iend1 = re.search(search_cmd, text[ind:]).span()\n",
    "                # get the command specifically\n",
    "                _,iend = re.search(re.escape(instr),text[ind:][istart:iend1]).span()\n",
    "                #iend += iend1\n",
    "                i1 = istart\n",
    "                i2 = istart+iend\n",
    "                # make sure we are not in a command\n",
    "                inCommand = False\n",
    "                for n,fn,i1c,i2c in newcommands:\n",
    "                    if i1+ind >= i1c and i2+ind <= i2c: # inside\n",
    "                        inCommand = True\n",
    "\n",
    "                if not inCommand: # not in a command\n",
    "                    text_out.append(text[ind:][:istart])\n",
    "                    text_out.append(outstr)\n",
    "                    ind += i2\n",
    "                else: # in command, move on\n",
    "                    ind += i2\n",
    "            else: # not in there anymore\n",
    "                text_out.append(text[ind:])\n",
    "                ind += len(text[ind:])\n",
    "\n",
    "        text = \"\".join(text_out)\n",
    "    else: # has arguments -- need to parse these as well for replacement\n",
    "        ind = 0\n",
    "        text_out = []\n",
    "        search_cmd = re.escape(instr) + r'(\\s*){' # include bracket in search\n",
    "        while ind < len(text):\n",
    "            if re.search(search_cmd, text[ind:]): # start of command\n",
    "                istart,iend = re.search(search_cmd, text[ind:]).span()\n",
    "                args = {} # get all arguments and store their values\n",
    "                err = False\n",
    "                #if icount > 0: import sys; sys.exit()\n",
    "                for ia in range(nArgs): # loop through all expected arguments\n",
    "                    # search for matching brakets, starting at starting {\n",
    "                    ind1,ind2,err = spc(text[ind+iend-1:],\n",
    "                                    function='',dopen='{',\n",
    "                                    dclose='}',\n",
    "                                   error_out=False)\n",
    "                    if not err: # found it!\n",
    "                        args[ia+1] = text[ind:][iend-1:][ind1+1:ind2-1]\n",
    "                        # now we have to update everything for the next look at args\n",
    "                        iend += ind2\n",
    "                    else: # have an issue, carry on\n",
    "                        if verbose: print('have issue finding {} for replacement args')\n",
    "                        iend += 1\n",
    "                        break\n",
    "                    #import sys; sys.exit()\n",
    "                    #if ia>0: import sys; sys.exit()\n",
    "                #import sys; sys.exit()\n",
    "                # replace\n",
    "                outstr_mod = outstr\n",
    "                for k,v in args.items():\n",
    "                    outstr_mod = outstr_mod.replace('#'+str(k), v)\n",
    "                # now get just inside part\n",
    "                ind1,ind2,err = spc(outstr_mod[::-1],\n",
    "                    function='',dopen='}',\n",
    "                    dclose='{',\n",
    "                   error_out=False)\n",
    "                outstr_mod = outstr_mod[::-1][ind1+1:ind2-1][::-1]\n",
    "                #if nArgs > 1: import sys; sys.exit()\n",
    "                \n",
    "                inCommand = False\n",
    "                i1 = istart\n",
    "                i2 = iend-1\n",
    "                for n,fn,i1c,i2c in newcommands:\n",
    "                    if i1+ind >= i1c and i2+ind <= i2c: # inside\n",
    "                        inCommand = True\n",
    "                        \n",
    "                if not inCommand:      \n",
    "                    text_out.append(text[ind:][:istart])\n",
    "                    text_out.append(outstr_mod)\n",
    "                ind += iend-1\n",
    "                if verbose: print(args)\n",
    "                #import sys; sys.exit()\n",
    "            else:\n",
    "                text_out.append(text[ind:])\n",
    "                ind += len(text[ind:])\n",
    "        text = \"\".join(text_out)\n",
    "        icount += 1\n"
   ]
  },
  {
   "cell_type": "code",
   "execution_count": 816,
   "id": "184149f7-a009-428f-b85f-840e3e38a1cc",
   "metadata": {
    "tags": []
   },
   "outputs": [
    {
     "name": "stdout",
     "output_type": "stream",
     "text": [
      "\\documentclass[a4paper]{article}\n",
      "\n",
      "\\newcommand{\\be}{\\begin{equation}}\n",
      "\\newcommand{\\ee}{\\end{equation}}\n",
      "\n",
      "\\newcommand{\\bee}[1]{\\begin{equation}\\label{e:#1}}\n",
      "\\newcommand{\\eee}{\\end{equation}}\n",
      "\n",
      "\\newcommand{\\beee}[2]{\\begin{equation}\\label{e:#1} #2}\n",
      "\\newcommand{\\eeee}{\\end{equation}}\n",
      "\n",
      "\n",
      "\\def \\etal {{\\em et al.}}\n",
      "\n",
      "\\begin{document}\n",
      "\n",
      "\\section{Waffles waffles waffles}\n",
      "\n",
      "\\subsection{Waffles are cooler than you}\n",
      "\n",
      "Waffles have significantly more pockets than you.  \n",
      "\n",
      "\\[\n",
      "P(W) > P(\\rm{you})\n",
      "\\]\n",
      "\n",
      "Ok, maybe you are at least as cool as waffles:\n",
      "\n",
      "$$\n",
      "C_{ool}(\\rm{you}) \\ge C_{ool}(W)\n",
      "$$\n",
      "\n",
      "Sometimes though, you might type things in silly ways $C_ {ool  } (\\rm{anybody}) >   0$.\n",
      "\n",
      "\\begin{equation}\n",
      "C_{   ool} \\ne 0\n",
      "\\end{equation}\n",
      "\n",
      "Also, let's do a silly redefined an equation:\n",
      "\\begin{equation}\n",
      "C = C_2 + 1\n",
      "\\end{equation}\n",
      "\n",
      "Also also, just one more time:\n",
      "\\begin{equation}\n",
      "C = C_2 + 1\n",
      "\\end{equation}\n",
      "\n",
      "\n",
      "Sometimes I like to write with weird commands like Naiman \\etal\\ which can make it tricky to parse things.\n",
      "\n",
      "\\begin{equation}\\label{e:lenseq}\n",
      "    A(\\xi) = \\frac12\\left(\\xi+\\frac1\\xi\\right),\n",
      "\\end{equation}\n",
      "\n",
      "\\begin{equation}\\label{e:lenseq2} A(x)=5\\end{equation}\n",
      "\n",
      "Getting some refs in \\ref{lenseq} and \\ref{lenseq2}.\n",
      "\n",
      "\n",
      "\\end{document}\n",
      "\n"
     ]
    }
   ],
   "source": [
    "print(text)"
   ]
  },
  {
   "cell_type": "code",
   "execution_count": 806,
   "id": "188a1394-7a9a-4964-95d7-7b30e063e6e5",
   "metadata": {
    "tags": []
   },
   "outputs": [
    {
     "data": {
      "text/plain": [
       "False"
      ]
     },
     "execution_count": 806,
     "metadata": {},
     "output_type": "execute_result"
    }
   ],
   "source": [
    "err"
   ]
  },
  {
   "cell_type": "code",
   "execution_count": 792,
   "id": "e165e4f4-7452-4a75-9f26-78d4f6a85e77",
   "metadata": {
    "tags": []
   },
   "outputs": [
    {
     "name": "stdout",
     "output_type": "stream",
     "text": [
      "\n"
     ]
    }
   ],
   "source": [
    "print(''.join(text_out))\n"
   ]
  },
  {
   "cell_type": "code",
   "execution_count": 777,
   "id": "019ff316-cc8e-475f-8d25-1eb1eed50f2d",
   "metadata": {
    "tags": []
   },
   "outputs": [
    {
     "data": {
      "text/plain": [
       "'\\\\begin{equation}\\\\label{e:lenseq}'"
      ]
     },
     "execution_count": 777,
     "metadata": {},
     "output_type": "execute_result"
    }
   ],
   "source": [
    "outstr_mod[::-1][ind1+1:ind2-1][::-1]"
   ]
  },
  {
   "cell_type": "code",
   "execution_count": null,
   "id": "893d08ae-00bf-4e18-b87a-a8c1e8f9c680",
   "metadata": {},
   "outputs": [],
   "source": []
  },
  {
   "cell_type": "code",
   "execution_count": 653,
   "id": "f09bbcd9-3d83-45f3-ac6a-a882bc454cc6",
   "metadata": {
    "tags": []
   },
   "outputs": [
    {
     "data": {
      "text/plain": [
       "'\\\\eeee\\n\\nGetting some refs in \\\\ref{lenseq} and \\\\ref{lenseq2}.\\n\\n\\n\\\\end{document}\\n\\\\newcommand{\\\\bee}[1]{\\\\begin{equation}\\\\label{e:lenseq}}    A(\\\\xi) = \\\\frac12\\\\left(\\\\xi+\\\\frac1\\\\xi\\\\right),\\n\\\\end{equation}\\n\\n\\\\beee{lenseq2}{A(x)=5}\\\\eeee\\n\\nGetting some refs in \\\\ref{lenseq} and \\\\ref{lenseq2}.\\n\\n\\n\\\\end{document}\\n'"
      ]
     },
     "execution_count": 653,
     "metadata": {},
     "output_type": "execute_result"
    }
   ],
   "source": [
    "text[ind+iend-1:]"
   ]
  },
  {
   "cell_type": "code",
   "execution_count": null,
   "id": "6421974a-b898-404b-bb29-69dde20bb6d4",
   "metadata": {},
   "outputs": [],
   "source": []
  },
  {
   "cell_type": "code",
   "execution_count": 525,
   "id": "6bb21cc7-a29c-4b25-b6cc-10ca065c1bfb",
   "metadata": {
    "tags": []
   },
   "outputs": [],
   "source": [
    "outstr_mod = outstr\n",
    "for k,v in args.items():\n",
    "    outstr_mod = outstr_mod.replace('#'+str(k), v)"
   ]
  },
  {
   "cell_type": "code",
   "execution_count": 528,
   "id": "a6799d42-8619-420b-816c-429bf7df449f",
   "metadata": {
    "tags": []
   },
   "outputs": [
    {
     "data": {
      "text/plain": [
       "'\\\\beee'"
      ]
     },
     "execution_count": 528,
     "metadata": {},
     "output_type": "execute_result"
    }
   ],
   "source": [
    "instr"
   ]
  },
  {
   "cell_type": "code",
   "execution_count": 527,
   "id": "887156f0-448d-44e0-949d-40112c052e32",
   "metadata": {
    "tags": []
   },
   "outputs": [
    {
     "data": {
      "text/plain": [
       "'\\\\newcommand{\\\\beee}[2]{\\\\begin{equation}\\\\label{e:lenseq2} A(x)=5}'"
      ]
     },
     "execution_count": 527,
     "metadata": {},
     "output_type": "execute_result"
    }
   ],
   "source": [
    "outstr_mod"
   ]
  },
  {
   "cell_type": "code",
   "execution_count": 365,
   "id": "537f092d-1aac-4003-a37a-743b21d76d44",
   "metadata": {
    "tags": []
   },
   "outputs": [
    {
     "data": {
      "text/plain": [
       "['\\\\newcommand{\\\\be}{\\\\begin{equation}}',\n",
       " '\\\\newcommand{\\\\ee}{\\\\end{equation}}']"
      ]
     },
     "execution_count": 365,
     "metadata": {},
     "output_type": "execute_result"
    }
   ],
   "source": [
    "comments"
   ]
  },
  {
   "cell_type": "code",
   "execution_count": 366,
   "id": "3c247fcf-2220-4f14-834a-b4bb391f8780",
   "metadata": {
    "tags": []
   },
   "outputs": [
    {
     "data": {
      "text/plain": [
       "[('\\\\be', '\\\\begin{equation}'), ('\\\\ee', '\\\\end{equation}')]"
      ]
     },
     "execution_count": 366,
     "metadata": {},
     "output_type": "execute_result"
    }
   ],
   "source": [
    "find_replace"
   ]
  },
  {
   "cell_type": "code",
   "execution_count": null,
   "id": "a4991ea1-19dd-4e32-bcf5-26e853ca2f91",
   "metadata": {},
   "outputs": [],
   "source": []
  },
  {
   "cell_type": "code",
   "execution_count": null,
   "id": "3a62a6db-f953-47b7-8f27-687bf1eabfbd",
   "metadata": {},
   "outputs": [],
   "source": []
  },
  {
   "cell_type": "code",
   "execution_count": 352,
   "id": "d9f628c2-c230-4681-9aad-1132b089c044",
   "metadata": {
    "tags": []
   },
   "outputs": [
    {
     "data": {
      "text/plain": [
       "[['\\\\be', '\\\\newcommand{\\\\be}{\\\\begin{equation}}', 34, 68, 0],\n",
       " ['\\\\ee', '\\\\newcommand{\\\\ee}{\\\\end{equation}}', 69, 101, 0],\n",
       " ['\\\\bee',\n",
       "  '\\\\newcommand{\\\\bee}[1]{\\\\begin{equation}\\\\label{e:#1}}',\n",
       "  103,\n",
       "  153,\n",
       "  1],\n",
       " ['\\\\eee', '\\\\newcommand{\\\\eee}{\\\\end{equation}}', 154, 187, 0],\n",
       " ['\\\\etal ', '\\\\def \\\\etal {{\\\\em et al.}}', 190, 215, 0]]"
      ]
     },
     "execution_count": 352,
     "metadata": {},
     "output_type": "execute_result"
    }
   ],
   "source": [
    "args"
   ]
  },
  {
   "cell_type": "code",
   "execution_count": null,
   "id": "de560183-9060-455c-b92f-f9c46a276aa1",
   "metadata": {},
   "outputs": [],
   "source": []
  },
  {
   "cell_type": "code",
   "execution_count": null,
   "id": "1d88b962-6dfa-40cd-8213-60c439fb1d6f",
   "metadata": {},
   "outputs": [],
   "source": []
  },
  {
   "cell_type": "code",
   "execution_count": 347,
   "id": "46d5eb67-2e84-4260-9662-ebe9f106ca5d",
   "metadata": {
    "tags": []
   },
   "outputs": [
    {
     "ename": "SystemExit",
     "evalue": "",
     "output_type": "error",
     "traceback": [
      "An exception has occurred, use %tb to see the full traceback.\n",
      "\u001b[0;31mSystemExit\u001b[0m\n"
     ]
    }
   ],
   "source": [
    "# go through and find if there is begin/end in there\n",
    "# note: at this point all beginnings/endings should be fixed\n",
    "find_replace = []\n",
    "comments = []\n",
    "for ic,nc in enumerate(newcommands):\n",
    "    if nc == 'error':\n",
    "        continue\n",
    "    n,fn,i1,i2 = nc\n",
    "    if '#' not in fn:\n",
    "        if '\\\\begin' in fn and not ('\\\\end' in fn):\n",
    "            i = fn.index(n+'}') + len(n+'}')\n",
    "            ind1,ind2,err = spc(fn[i:],\n",
    "                            function='',dopen='{',\n",
    "                            dclose='}',\n",
    "                           error_out=False)\n",
    "            if not err:\n",
    "                cmd = fn[i:][ind1+1:ind2-1]\n",
    "                find_replace.append((n,cmd))\n",
    "            comments.append(fn)\n",
    "\n",
    "        elif '\\\\end' in fn and not ('\\\\begin' in fn):\n",
    "            i = fn.index(n+'}') + len(n+'}')\n",
    "            ind1,ind2,err = spc(fn[i:],\n",
    "                            function='',dopen='{',\n",
    "                            dclose='}',\n",
    "                           error_out=False)\n",
    "            if not err:\n",
    "                cmd = fn[i:][ind1+1:ind2-1]\n",
    "                find_replace.append((n,cmd))\n",
    "            comments.append(fn)\n",
    "        elif '\\\\def' in fn: # def statement\n",
    "            pass\n",
    "        else: # have both\n",
    "            print('have both')\n",
    "            import sys; sys.exit()\n",
    "    else:\n",
    "        import sys; sys.exit()\n",
    "    \n",
    "for ic,nc in enumerate(newenvironments):\n",
    "    if nc == 'error':\n",
    "        continue\n",
    "    n,fn,i1,i2 = nc\n",
    "    import sys; sys.exit()\n",
    "    if '\\\\begin' in fn and not ('\\\\end' in fn):\n",
    "        i = fn.index(n+'}') + len(n+'}')\n",
    "        ind1,ind2,err = spc(fn[i:],\n",
    "                        function='',dopen='{',\n",
    "                        dclose='}',\n",
    "                       error_out=False)\n",
    "        if not err:\n",
    "            cmd = fn[i:][ind1+1:ind2-1]\n",
    "            find_replace.append((n,cmd))\n",
    "        comments.append(fn)\n",
    "            \n",
    "    elif '\\\\end' in fn and not ('\\\\begin' in fn):\n",
    "        i = fn.index(n+'}') + len(n+'}')\n",
    "        ind1,ind2,err = spc(fn[i:],\n",
    "                        function='',dopen='{',\n",
    "                        dclose='}',\n",
    "                       error_out=False)\n",
    "        if not err:\n",
    "            cmd = fn[i:][ind1+1:ind2-1]\n",
    "            find_replace.append((n,cmd))\n",
    "        comments.append(fn)\n",
    "        \n",
    "    elif '\\\\def' in fn: # def statement\n",
    "        pass\n",
    "    else: # have both\n",
    "        print('have both')\n",
    "        import sys; sys.exit()\n",
    "\n",
    "        \n",
    "# find/replace -- require a whitespace after\n",
    "for instr, outstr in find_replace:\n",
    "    if '#' not in outstr: \n",
    "        ind = 0\n",
    "        text_out = []\n",
    "        search_cmd = re.escape(instr) + '(\\\\s{1,})'\n",
    "\n",
    "        while ind < len(text):\n",
    "            if re.search(search_cmd, text[ind:]):\n",
    "                istart,iend1 = re.search(search_cmd, text[ind:]).span()\n",
    "                # get the command specifically\n",
    "                _,iend = re.search(re.escape(instr),text[ind:][istart:iend1]).span()\n",
    "                #iend += iend1\n",
    "                i1 = istart\n",
    "                i2 = istart+iend\n",
    "                # make sure we are not in a command\n",
    "                inCommand = False\n",
    "                for n,fn,i1c,i2c in newcommands:\n",
    "                    if i1+ind >= i1c and i2+ind <= i2c: # inside\n",
    "                        inCommand = True\n",
    "\n",
    "                if not inCommand: # not in a command\n",
    "                    text_out.append(text[ind:][:istart])\n",
    "                    text_out.append(outstr)\n",
    "                    ind += i2\n",
    "                else: # in command, move on\n",
    "                    ind += i2\n",
    "            else: # not in there anymore\n",
    "                text_out.append(text[ind:])\n",
    "                ind += len(text[ind:])\n",
    "\n",
    "        text = \"\".join(text_out)\n",
    "    else:\n",
    "        import sys; sys.exit()\n",
    "    \n",
    "# finally, comment out the new commands for the soup\n",
    "text_out = text\n",
    "for fn in comments:\n",
    "    fnout = '%' + fn\n",
    "    text_out = text_out.replace(fn,fnout)\n",
    "text = text_out\n",
    "    \n",
    "tex_doc = text"
   ]
  },
  {
   "cell_type": "code",
   "execution_count": null,
   "id": "b1415a23-b29c-4d98-88c9-ef00fd96b65a",
   "metadata": {
    "tags": []
   },
   "outputs": [],
   "source": []
  },
  {
   "cell_type": "code",
   "execution_count": 308,
   "id": "19e86819-1dfa-4a1e-8d2b-9a97162431a4",
   "metadata": {
    "tags": []
   },
   "outputs": [
    {
     "name": "stdout",
     "output_type": "stream",
     "text": [
      "\\documentclass[a4paper]{article}\n",
      "\n",
      "%\\newcommand{\\be}{\\begin{equation}}\n",
      "%\\newcommand{\\ee}{\\end{equation}}\n",
      "\n",
      "\\def \\etal {{\\em et al.}}\n",
      "\n",
      "\\begin{document}\n",
      "\n",
      "\\section{Waffles waffles waffles}\n",
      "\n",
      "\\subsection{Waffles are cooler than you}\n",
      "\n",
      "Waffles have significantly more pockets than you.  \n",
      "\n",
      "\\[\n",
      "P(W) > P(\\rm{you})\n",
      "\\]\n",
      "\n",
      "Ok, maybe you are at least as cool as waffles:\n",
      "\n",
      "$$\n",
      "C_{ool}(\\rm{you}) \\ge C_{ool}(W)\n",
      "$$\n",
      "\n",
      "Sometimes though, you might type things in silly ways $C_ {ool  } (\\rm{anybody}) >   0$.\n",
      "\n",
      "\\begin{equation}\n",
      "C_{   ool} \\ne 0\n",
      "\\end{equation}\n",
      "\n",
      "Also, let's do a silly redefined an equation:\n",
      "\\begin{equation}\n",
      "C = C_2 + 1\n",
      "\\end{equation}\n",
      "\n",
      "Also also, just one more time:\n",
      "\\begin{equation}\n",
      "C = C_2 + 1\n",
      "\\end{equation}\n",
      "\n",
      "\n",
      "Sometimes I like to write with weird commands like Naiman \\etal\\ which can make it tricky to parse things.\n",
      "\n",
      "\\end{document}\n",
      "\n"
     ]
    }
   ],
   "source": [
    "print(tex_doc)"
   ]
  },
  {
   "cell_type": "code",
   "execution_count": 309,
   "id": "fa3e8ea8-53c0-4ce3-85ce-aaebf51bc300",
   "metadata": {
    "tags": []
   },
   "outputs": [],
   "source": [
    "soup = TexSoup.TexSoup(r''+tex_doc, tolerance=0)"
   ]
  },
  {
   "cell_type": "code",
   "execution_count": 310,
   "id": "2916341b-0e97-4e82-9e01-649e064e5089",
   "metadata": {
    "tags": []
   },
   "outputs": [
    {
     "name": "stdout",
     "output_type": "stream",
     "text": [
      "----------- soup element = 0 ---------------\n",
      "<class 'TexSoup.data.TexNode'>\n",
      "<class 'TexSoup.data.TexCmd'>\n",
      "\\documentclass[a4paper]{article}\n",
      "----------------\n",
      "----------- soup element = 1 ---------------\n",
      "<class 'TexSoup.data.TexNode'>\n",
      "<class 'TexSoup.data.TexText'>\n",
      "\n",
      "\n",
      "----------------\n",
      "----------- soup element = 2 ---------------\n",
      "<class 'TexSoup.data.TexNode'>\n",
      "<class 'TexSoup.data.TexText'>\n",
      "\n",
      "\n",
      "----------------\n",
      "----------- soup element = 3 ---------------\n",
      "<class 'TexSoup.data.TexNode'>\n",
      "<class 'TexSoup.data.TexText'>\n",
      "%\\newcommand{\\be}{\\begin{equation}}\n",
      "----------------\n",
      "----------- soup element = 4 ---------------\n",
      "<class 'TexSoup.data.TexNode'>\n",
      "<class 'TexSoup.data.TexText'>\n",
      "\n",
      "\n",
      "----------------\n",
      "----------- soup element = 5 ---------------\n",
      "<class 'TexSoup.data.TexNode'>\n",
      "<class 'TexSoup.data.TexText'>\n",
      "%\\newcommand{\\ee}{\\end{equation}}\n",
      "----------------\n",
      "----------- soup element = 6 ---------------\n",
      "<class 'TexSoup.data.TexNode'>\n",
      "<class 'TexSoup.data.TexText'>\n",
      "\n",
      "\n",
      "----------------\n",
      "----------- soup element = 7 ---------------\n",
      "<class 'TexSoup.data.TexNode'>\n",
      "<class 'TexSoup.data.TexText'>\n",
      "\n",
      "\n",
      "----------------\n",
      "----------- soup element = 8 ---------------\n",
      "<class 'TexSoup.data.TexNode'>\n",
      "<class 'TexSoup.data.TexCmd'>\n",
      "\\def\\etal{{\\em et al.}}\n",
      "----------------\n",
      "----------- soup element = 9 ---------------\n",
      "<class 'TexSoup.data.TexNode'>\n",
      "<class 'TexSoup.data.TexText'>\n",
      "\n",
      "\n",
      "----------------\n",
      "----------- soup element = 10 ---------------\n",
      "<class 'TexSoup.data.TexNode'>\n",
      "<class 'TexSoup.data.TexText'>\n",
      "\n",
      "\n",
      "----------------\n",
      "----------- soup element = 11 ---------------\n",
      "<class 'TexSoup.data.TexNode'>\n",
      "<class 'TexSoup.data.TexNamedEnv'>\n",
      "\\begin{document}\n",
      "\n",
      "\\section{Waffles waffles waffles}\n",
      "\n",
      "\\subsection{Waffles are cooler than you}\n",
      "\n",
      "Waffles have significantly more pockets than you.  \n",
      "\n",
      "\\[\n",
      "P(W) > P(\\rm{you})\n",
      "\\]\n",
      "\n",
      "Ok, maybe you are at least as cool as waffles:\n",
      "\n",
      "$$\n",
      "C_{ool}(\\rm{you}) \\ge C_{ool}(W)\n",
      "$$\n",
      "\n",
      "Sometimes though, you might type things in silly ways $C_ {ool  } (\\rm{anybody}) >   0$.\n",
      "\n",
      "\\begin{equation}\n",
      "C_{   ool} \\ne 0\n",
      "\\end{equation}\n",
      "\n",
      "Also, let's do a silly redefined an equation:\n",
      "\\begin{equation}\n",
      "C = C_2 + 1\n",
      "\\end{equation}\n",
      "\n",
      "Also also, just one more time:\n",
      "\\begin{equation}\n",
      "C = C_2 + 1\n",
      "\\end{equation}\n",
      "\n",
      "\n",
      "Sometimes I like to write with weird commands like Naiman \\etal\\ which can make it tricky to parse things.\n",
      "\n",
      "\\end{document}\n",
      "----------------\n",
      "----------- soup element = 12 ---------------\n",
      "<class 'TexSoup.data.TexNode'>\n",
      "<class 'TexSoup.data.TexText'>\n",
      "\n",
      "\n",
      "----------------\n"
     ]
    }
   ],
   "source": [
    "for iss,s in enumerate(soup.all):\n",
    "    print('----------- soup element =', iss, '---------------')\n",
    "    print(type(s))\n",
    "    print(type(s.expr))\n",
    "    print(s)\n",
    "    print('----------------')"
   ]
  },
  {
   "cell_type": "code",
   "execution_count": 311,
   "id": "39394b3e-b816-42f6-87a1-633d0a0eded8",
   "metadata": {
    "tags": []
   },
   "outputs": [
    {
     "name": "stdout",
     "output_type": "stream",
     "text": [
      "----------- soup element = 0 ---------------\n",
      "----------- soup element = 1 ---------------\n",
      "----------- soup element = 2 ---------------\n",
      "----------- soup element = 3 ---------------\n",
      "----------- soup element = 4 ---------------\n",
      "----------- soup element = 5 ---------------\n",
      "----------- soup element = 6 ---------------\n",
      "----------- soup element = 7 ---------------\n",
      "----------- soup element = 8 ---------------\n",
      "----------- soup element = 9 ---------------\n",
      "----------- soup element = 10 ---------------\n",
      "----------- soup element = 11 ---------------\n",
      "----------- sub-soup element = 0 ---------------\n",
      "<class 'TexSoup.data.TexText'>\n",
      "\n",
      "\n",
      "-----------------\n",
      "----------- sub-soup element = 1 ---------------\n",
      "<class 'TexSoup.data.TexText'>\n",
      "\n",
      "\n",
      "-----------------\n",
      "----------- sub-soup element = 2 ---------------\n",
      "<class 'TexSoup.data.TexCmd'>\n",
      "\\section{Waffles waffles waffles}\n",
      "-----------------\n",
      "----------- sub-soup element = 3 ---------------\n",
      "<class 'TexSoup.data.TexText'>\n",
      "\n",
      "\n",
      "-----------------\n",
      "----------- sub-soup element = 4 ---------------\n",
      "<class 'TexSoup.data.TexText'>\n",
      "\n",
      "\n",
      "-----------------\n",
      "----------- sub-soup element = 5 ---------------\n",
      "<class 'TexSoup.data.TexCmd'>\n",
      "\\subsection{Waffles are cooler than you}\n",
      "-----------------\n",
      "----------- sub-soup element = 6 ---------------\n",
      "<class 'TexSoup.data.TexText'>\n",
      "\n",
      "\n",
      "-----------------\n",
      "----------- sub-soup element = 7 ---------------\n",
      "<class 'TexSoup.data.TexText'>\n",
      "\n",
      "Waffles have significantly more pockets than you.  \n",
      "\n",
      "\n",
      "-----------------\n",
      "----------- sub-soup element = 8 ---------------\n",
      "<class 'TexSoup.data.TexDisplayMathEnv'>\n",
      "\\[\n",
      "P(W) > P(\\rm{you})\n",
      "\\]\n",
      "-----------------\n",
      "----------- sub-soup element = 9 ---------------\n",
      "<class 'TexSoup.data.TexText'>\n",
      "\n",
      "\n",
      "-----------------\n",
      "----------- sub-soup element = 10 ---------------\n",
      "<class 'TexSoup.data.TexText'>\n",
      "\n",
      "Ok, maybe you are at least as cool as waffles:\n",
      "\n",
      "\n",
      "-----------------\n",
      "----------- sub-soup element = 11 ---------------\n",
      "<class 'TexSoup.data.TexDisplayMathModeEnv'>\n",
      "$$\n",
      "C_{ool}(\\rm{you}) \\ge C_{ool}(W)\n",
      "$$\n",
      "-----------------\n",
      "----------- sub-soup element = 12 ---------------\n",
      "<class 'TexSoup.data.TexText'>\n",
      "\n",
      "\n",
      "-----------------\n",
      "----------- sub-soup element = 13 ---------------\n",
      "<class 'TexSoup.data.TexText'>\n",
      "\n",
      "Sometimes though, you might type things in silly ways \n",
      "-----------------\n",
      "----------- sub-soup element = 14 ---------------\n",
      "<class 'TexSoup.data.TexMathModeEnv'>\n",
      "$C_ {ool  } (\\rm{anybody}) >   0$\n",
      "-----------------\n",
      "----------- sub-soup element = 15 ---------------\n",
      "<class 'TexSoup.data.TexText'>\n",
      ".\n",
      "\n",
      "\n",
      "-----------------\n",
      "----------- sub-soup element = 16 ---------------\n",
      "<class 'TexSoup.data.TexNamedEnv'>\n",
      "\\begin{equation}\n",
      "C_{   ool} \\ne 0\n",
      "\\end{equation}\n",
      "-----------------\n",
      "----------- sub-soup element = 17 ---------------\n",
      "<class 'TexSoup.data.TexText'>\n",
      "\n",
      "\n",
      "-----------------\n",
      "----------- sub-soup element = 18 ---------------\n",
      "<class 'TexSoup.data.TexText'>\n",
      "\n",
      "Also, let's do a silly redefined an equation:\n",
      "\n",
      "-----------------\n",
      "----------- sub-soup element = 19 ---------------\n",
      "<class 'TexSoup.data.TexNamedEnv'>\n",
      "\\begin{equation}\n",
      "C = C_2 + 1\n",
      "\\end{equation}\n",
      "-----------------\n",
      "----------- sub-soup element = 20 ---------------\n",
      "<class 'TexSoup.data.TexText'>\n",
      "\n",
      "\n",
      "-----------------\n",
      "----------- sub-soup element = 21 ---------------\n",
      "<class 'TexSoup.data.TexText'>\n",
      "\n",
      "Also also, just one more time:\n",
      "\n",
      "-----------------\n",
      "----------- sub-soup element = 22 ---------------\n",
      "<class 'TexSoup.data.TexNamedEnv'>\n",
      "\\begin{equation}\n",
      "C = C_2 + 1\n",
      "\\end{equation}\n",
      "-----------------\n",
      "----------- sub-soup element = 23 ---------------\n",
      "<class 'TexSoup.data.TexText'>\n",
      "\n",
      "\n",
      "-----------------\n",
      "----------- sub-soup element = 24 ---------------\n",
      "<class 'TexSoup.data.TexText'>\n",
      "\n",
      "\n",
      "-----------------\n",
      "----------- sub-soup element = 25 ---------------\n",
      "<class 'TexSoup.data.TexText'>\n",
      "\n",
      "Sometimes I like to write with weird commands like Naiman \n",
      "-----------------\n",
      "----------- sub-soup element = 26 ---------------\n",
      "<class 'TexSoup.data.TexCmd'>\n",
      "\\etal\n",
      "-----------------\n",
      "----------- sub-soup element = 27 ---------------\n",
      "<class 'TexSoup.data.TexText'>\n",
      "\\ \n",
      "-----------------\n",
      "----------- sub-soup element = 28 ---------------\n",
      "<class 'TexSoup.data.TexText'>\n",
      "which can make it tricky to parse things.\n",
      "\n",
      "\n",
      "-----------------\n",
      "----------- soup element = 12 ---------------\n"
     ]
    }
   ],
   "source": [
    "for iss,s in enumerate(soup.all):\n",
    "    print('----------- soup element =', iss, '---------------')\n",
    "    if type(s.expr) == TexSoup.data.TexNamedEnv: # parts of the text\n",
    "        if 'begin' in s.expr.begin and 'document' in s.expr.begin:\n",
    "            for isss,ss in enumerate(s.all):\n",
    "                print('----------- sub-soup element =', isss, '---------------')\n",
    "                #print(type(ss))\n",
    "                print(type(ss.expr))\n",
    "                print(ss)\n",
    "                print('-----------------')\n",
    "        else:\n",
    "            print(' ******** not in document *********** ')"
   ]
  },
  {
   "cell_type": "code",
   "execution_count": null,
   "id": "d5226cee-15e7-46ce-9a9c-7c141ab36456",
   "metadata": {},
   "outputs": [],
   "source": []
  },
  {
   "cell_type": "code",
   "execution_count": null,
   "id": "ca058e9a-cf0f-4e35-b306-93ad4a12fd94",
   "metadata": {},
   "outputs": [],
   "source": []
  }
 ],
 "metadata": {
  "kernelspec": {
   "display_name": "Python 3 (ipykernel)",
   "language": "python",
   "name": "python3"
  },
  "language_info": {
   "codemirror_mode": {
    "name": "ipython",
    "version": 3
   },
   "file_extension": ".py",
   "mimetype": "text/x-python",
   "name": "python",
   "nbconvert_exporter": "python",
   "pygments_lexer": "ipython3",
   "version": "3.9.16"
  }
 },
 "nbformat": 4,
 "nbformat_minor": 5
}
